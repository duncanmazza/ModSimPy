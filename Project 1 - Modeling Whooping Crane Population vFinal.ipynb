{
 "cells": [
  {
   "cell_type": "markdown",
   "metadata": {},
   "source": [
    "# Project 1 - Simulating Endangered Populations"
   ]
  },
  {
   "cell_type": "markdown",
   "metadata": {},
   "source": [
    "Copyright 2018. Duncan Mazza and Aditya Sudhakar \n",
    "\n",
    "*No model is correct, but some are useful"
   ]
  },
  {
   "cell_type": "code",
   "execution_count": 26,
   "metadata": {},
   "outputs": [],
   "source": [
    "# Configure Jupyter so figures appear in the notebook\n",
    "%matplotlib inline\n",
    "\n",
    "# Configure Jupyter to display the assigned value after an assignment\n",
    "%config InteractiveShell.ast_node_interactivity='last_expr_or_assign'\n",
    "\n",
    "# import functions from the modsim library\n",
    "from modsim import *\n",
    "from pandas import read_html "
   ]
  },
  {
   "cell_type": "markdown",
   "metadata": {},
   "source": [
    "## Can we predict whether an endangered species will pass a certain population threshold in a given amount of time? \n",
    "\n",
    "We live in a time of decreasing bio-diversity and increasing numbers of endangered species. When taking conservational measures with a species, it is important to make predictions about the future of the species. Existing metrics for this exist - notably, the MVP, or minimum viable population. The minimum viable population (specifically the MVPa metric) refers to, \"...the minimum viable adult population size as estimated from the available data regardless of study length,\" according to the article: \"Estimates of minimum viable population sizes for vertebrates and factors influencing those estimates\" (cited at the end of the essay). \n",
    "\n",
    "What our model aims to do is predict for a given population of a species with a known population growth rate and MVPa value whether they will reach their MVPa threshold within 20 years. Essentially, can we expect that the population will reach a minimum threshold for survivability within the next 20 years? \n",
    "\n",
    "Our model will produce a graph that plots aforementioned probability versus the given population. To determine the parameters used for our model, we will examine the whooping crane (*grus americana*). The parameters are:\n",
    "1. Population growth rate:\n",
    "    This is determined from the population graph of the whooping crane obtained from the Center for Biological Diversity. We used the population of 150 from 1995 and the population of 450 from 2015 to obtain a grwoth of 300 cranes over the last 20 years. Fit to an exponential model (which the population graph follows), the year-over-year growth rate was approximately 5.65%:\n"
   ]
  },
  {
   "cell_type": "markdown",
   "metadata": {},
   "source": [
    "2. MVPa value:\n",
    "    The following article lists the MVPa value for the whooping crane to be 1131 cranes: \"Estimates of minimum viable population sizes for vertebrates and factors influencing those estimates.\" This will be used as the threshold for success in our model. The final output will be a probability, and that proability is determined by the number times that the simulation produced a population that surpassed the MPVa value for the whooping crane. \n",
    "    \n",
    "We will store these parameters as follows:"
   ]
  },
  {
   "cell_type": "code",
   "execution_count": 29,
   "metadata": {},
   "outputs": [
    {
     "data": {
      "text/html": [
       "<div>\n",
       "<style scoped>\n",
       "    .dataframe tbody tr th:only-of-type {\n",
       "        vertical-align: middle;\n",
       "    }\n",
       "\n",
       "    .dataframe tbody tr th {\n",
       "        vertical-align: top;\n",
       "    }\n",
       "\n",
       "    .dataframe thead th {\n",
       "        text-align: right;\n",
       "    }\n",
       "</style>\n",
       "<table border=\"1\" class=\"dataframe\">\n",
       "  <thead>\n",
       "    <tr style=\"text-align: right;\">\n",
       "      <th></th>\n",
       "      <th>values</th>\n",
       "    </tr>\n",
       "  </thead>\n",
       "  <tbody>\n",
       "    <tr>\n",
       "      <th>pop</th>\n",
       "      <td>0</td>\n",
       "    </tr>\n",
       "    <tr>\n",
       "      <th>succ</th>\n",
       "      <td>0</td>\n",
       "    </tr>\n",
       "    <tr>\n",
       "      <th>p_succ</th>\n",
       "      <td>0</td>\n",
       "    </tr>\n",
       "    <tr>\n",
       "      <th>pop_20</th>\n",
       "      <td>0</td>\n",
       "    </tr>\n",
       "    <tr>\n",
       "      <th>mvpa</th>\n",
       "      <td>1131</td>\n",
       "    </tr>\n",
       "  </tbody>\n",
       "</table>\n",
       "</div>"
      ],
      "text/plain": [
       "pop          0\n",
       "succ         0\n",
       "p_succ       0\n",
       "pop_20       0\n",
       "mvpa      1131\n",
       "dtype: int64"
      ]
     },
     "execution_count": 29,
     "metadata": {},
     "output_type": "execute_result"
    }
   ],
   "source": [
    "system = System(t_0 = 0,\n",
    "                t_final = 20,\n",
    "                growth_rate = 0.0565\n",
    "                )\n",
    "\n",
    "state = State(pop = 0, succ = 0, p_succ = 0, pop_20 = 0, mvpa =  1131)"
   ]
  },
  {
   "cell_type": "markdown",
   "metadata": {},
   "source": [
    "Here we establish `run_simulation1` which simulates population increase for the first year, and `run_simulation_2_20` which simulates the population increase for the next twenty years. These are separate functions so the first one can set the population value (which is being swept) back to the starting value and the fucntion doesn't compound itself when being run."
   ]
  },
  {
   "cell_type": "code",
   "execution_count": 30,
   "metadata": {},
   "outputs": [],
   "source": [
    "def run_simulation1(state, system, init_pop):\n",
    "   #this function is for computing the population after the first year            \n",
    "    \n",
    "    state.pop = int(init_pop)\n",
    "    \n",
    "    for i in range (state.pop):\n",
    "       \n",
    "        if flip(system.growth_rate):\n",
    "            state.pop += 1\n",
    "    \n",
    "    return state.pop\n",
    "\n",
    "def run_simulation2_20(state, system):\n",
    "    #this function is for computing the population for years 2 - 20\n",
    "    \n",
    "    for i in range (state.pop):\n",
    "       \n",
    "        if flip(system.growth_rate):\n",
    "            state.pop += 1\n",
    "    \n",
    "    return state.pop"
   ]
  },
  {
   "cell_type": "code",
   "execution_count": 31,
   "metadata": {},
   "outputs": [],
   "source": [
    "def run_simulation20(state, system, init_pop):\n",
    "    \n",
    "    #this function is for computing the final population at the end of the twenty years\n",
    "    #run_simulation20 runs the two prior functions such that an ending population is calculated from an initial population\n",
    "    \n",
    "    for i in linrange(1,20,1):\n",
    "        \n",
    "        if i == 1:\n",
    "            state.pop_20 = run_simulation1(state, system, init_pop) \n",
    "        if i >= 2:\n",
    "            state.pop_20 = run_simulation2_20(state, system)\n",
    "    \n",
    "    return state.pop_20"
   ]
  },
  {
   "cell_type": "code",
   "execution_count": 33,
   "metadata": {},
   "outputs": [],
   "source": [
    "record = TimeSeries()\n",
    "def run_many_times(state, system, record):\n",
    "    \n",
    "    #runs the simulation 100 times (many) to generate a time series of data. \n",
    "    #The output is a probabilty for the chance a population with cross the MVPa threshold after 20 years.\n",
    "    \n",
    "    state.succ = 0\n",
    "    \n",
    "    for i in range(100):\n",
    "        record[i] = run_simulation20(state, system, init_pop)\n",
    "    \n",
    "        if record[i] >= state.mvpa:\n",
    "            state.succ += 1\n",
    "    \n",
    "\n",
    "    state.p_succ = state.succ\n",
    "    return state\n"
   ]
  },
  {
   "cell_type": "markdown",
   "metadata": {},
   "source": [
    "   Finally, we will call the `run_many_times` in a for loop that sweeps the initial population."
   ]
  },
  {
   "cell_type": "code",
   "execution_count": 35,
   "metadata": {},
   "outputs": [],
   "source": [
    "init_pop_array = linrange(300, 500, 1)\n",
    "\n",
    "final_results = SweepSeries()\n",
    "\n",
    "for init_pop in init_pop_array:\n",
    "    #sweeps different starting populations and runs the simulation many times\n",
    "    \n",
    "    state = run_many_times(state, system, record)\n",
    "    final_results[init_pop] = float(state.p_succ)"
   ]
  },
  {
   "cell_type": "code",
   "execution_count": 47,
   "metadata": {},
   "outputs": [
    {
     "data": {
      "image/png": "[encoded data removed]",
      "text/plain": [
       "<Figure size 432x288 with 1 Axes>"
      ]
     },
     "metadata": {
      "needs_background": "light"
     },
     "output_type": "display_data"
    }
   ],
   "source": [
    "plot(final_results)\n",
    "#plots results\n",
    "decorate(xlabel='Initial Population', \n",
    "         ylabel='Probablity of Success(%)**',\n",
    "         title='Probablity of Success** vs Initial Whooping Crane Population')"
   ]
  },
  {
   "cell_type": "markdown",
   "metadata": {},
   "source": [
    "**Probability of surpassing MVPa in the next twenty years"
   ]
  },
  {
   "cell_type": "markdown",
   "metadata": {},
   "source": [
    "Above is the final result that shows the relationship between the probability that, given the year-over-year growth rate is held constant, the population of whooping cranes will reach the MVPa threshold population of 1131.\n",
    "\n",
    "As we predicted, the probability formed a logistic-shaped curve. We can conclude that if the population of whooping cranes was below 350, there would be a near-0% chance that it would surpass the MVPa threshold in the next twenty years; conversely, if given population of whooping cranes was above 450, then it would be expected that the population would exceed the MVPa threshold in the next twenty years. "
   ]
  },
  {
   "cell_type": "markdown",
   "metadata": {},
   "source": [
    "Our model does not exclusively apply to Whooping Crane populations. If one knows the MVPa threshold for a specific organism and can assume that the yearly growth rate is constant, our model can be used. Note that we can (and did) assume constant yearly growth rate because no recent/notable conservation efforts were made to protect the population. \n",
    "\n",
    "To account for non-constant growth rate, we could investigate accounting for non-constant growth rate as a function of time."
   ]
  },
  {
   "cell_type": "markdown",
   "metadata": {},
   "source": [
    "https://www.esasuccess.org/2016/index.html\n",
    "\n",
    "Estimates of minimum viable population sizes for vertebrates and factors influencing those estimates: http://www.wec.ufl.edu/academics/courses/wis4554/WebUpdate/ReadingsWIS5555/PVA/Reed%20et%20al%20PVA%20estimates%202003BiolCons113_23.pdf"
   ]
  },
  {
   "cell_type": "markdown",
   "metadata": {},
   "source": [
    "*Godspeed*"
   ]
  }
 ],
 "metadata": {
  "kernelspec": {
   "display_name": "Python 3",
   "language": "python",
   "name": "python3"
  },
  "language_info": {
   "codemirror_mode": {
    "name": "ipython",
    "version": 3
   },
   "file_extension": ".py",
   "mimetype": "text/x-python",
   "name": "python",
   "nbconvert_exporter": "python",
   "pygments_lexer": "ipython3",
   "version": "3.6.6"
  }
 },
 "nbformat": 4,
 "nbformat_minor": 2
}
