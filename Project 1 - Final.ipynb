{
 "cells": [
  {
   "cell_type": "markdown",
   "metadata": {},
   "source": [
    "# Project 1 - Simulating Endangered Populations"
   ]
  },
  {
   "cell_type": "markdown",
   "metadata": {},
   "source": [
    "Copyright 2018. Duncan Mazza and Aditya Sudhakar \n",
    "\n",
    "*No model is correct, but some are useful"
   ]
  },
  {
   "cell_type": "code",
   "execution_count": 1,
   "metadata": {},
   "outputs": [],
   "source": [
    "# Configure Jupyter so figures appear in the notebook\n",
    "%matplotlib inline\n",
    "\n",
    "# Configure Jupyter to display the assigned value after an assignment\n",
    "%config InteractiveShell.ast_node_interactivity='last_expr_or_assign'\n",
    "\n",
    "# import functions from the modsim library\n",
    "from modsim import *\n",
    "from pandas import read_html "
   ]
  },
  {
   "cell_type": "code",
   "execution_count": 2,
   "metadata": {},
   "outputs": [],
   "source": [
    "def plot_results(system, state, final_results, title):\n",
    "    \"\"\"Plot the estimates and the model.\n",
    "    \n",
    "    census: TimeSeries of population estimates\n",
    "    un: TimeSeries of population estimates\n",
    "    timeseries: TimeSeries of simulation results\n",
    "    title: string\n",
    "    \"\"\"\n",
    "    plot()\n",
    "    plot()\n",
    "    if len(timeseries):\n",
    "        plot(timeseries, color='gray', label='model')\n",
    "    \n",
    "    decorate(xlabel='', \n",
    "             ylabel='',\n",
    "             title=title)"
   ]
  },
  {
   "cell_type": "markdown",
   "metadata": {},
   "source": [
    "## Can we predict whether an endangered species will survive in a given amount of time? \n",
    "\n",
    "We live in a time of decreasing bio-diversity and increasing numbers of endangered species. When taking conservational measures with a species, it is important to make predictions about the future of the species. Existing metrics for this exist - notably, the MVP, or minimum viable population. The minimum viable population (specifically the MVPa metric) refers to, \"A is the minimum viable adult population size as estimated from the available data regardless of study length,\" according to the paper cited at the end of the essay. \n",
    "\n",
    "What our model aims to do is predict for a given population of animals with known birth/death rates and MVPa values whether they will reach that MVPc threshold within 20 years. Essentially, can we expect that the population will reach a minimum threshold for survivability within the next 20 years? \n",
    "\n",
    "Our model will produce a graph that plots aforementioned probability versus the given population. To determine the parameters used for our model, we will examine the whooping crane (*grus americana*). The parameters are:\n",
    "1. Population growth rate:\n",
    "    This is determined from the population graph of the whooping crane obtained from the center for biological diversity. We used the population of 150 from 1995 and the population of 450 from 2015 to obtain a grwoth of 300 cranes over the last 20 years. Fit to an exponential model (which the population graph follows), the year-over-year growth rate was approximately 5.65%:\n"
   ]
  },
  {
   "cell_type": "code",
   "execution_count": 3,
   "metadata": {},
   "outputs": [],
   "source": [
    "# code to show how we got to the 5.65% value"
   ]
  },
  {
   "cell_type": "markdown",
   "metadata": {},
   "source": [
    "2. MVPa value:\n",
    "    The study (cited at the end) lists the MVPa value for the whooping crane to be 1131 cranes. This will be used as the threshold for success in our model. The final output will be a probability, and that proability is determined by the number of successes and failures. \n",
    "    \n",
    "We will store these parameters as follows:"
   ]
  },
  {
   "cell_type": "code",
   "execution_count": 4,
   "metadata": {},
   "outputs": [
    {
     "data": {
      "text/html": [
       "<div>\n",
       "<style scoped>\n",
       "    .dataframe tbody tr th:only-of-type {\n",
       "        vertical-align: middle;\n",
       "    }\n",
       "\n",
       "    .dataframe tbody tr th {\n",
       "        vertical-align: top;\n",
       "    }\n",
       "\n",
       "    .dataframe thead th {\n",
       "        text-align: right;\n",
       "    }\n",
       "</style>\n",
       "<table border=\"1\" class=\"dataframe\">\n",
       "  <thead>\n",
       "    <tr style=\"text-align: right;\">\n",
       "      <th></th>\n",
       "      <th>values</th>\n",
       "    </tr>\n",
       "  </thead>\n",
       "  <tbody>\n",
       "    <tr>\n",
       "      <th>pop</th>\n",
       "      <td>0</td>\n",
       "    </tr>\n",
       "    <tr>\n",
       "      <th>succ</th>\n",
       "      <td>0</td>\n",
       "    </tr>\n",
       "    <tr>\n",
       "      <th>p_succ</th>\n",
       "      <td>0</td>\n",
       "    </tr>\n",
       "    <tr>\n",
       "      <th>pop_20</th>\n",
       "      <td>0</td>\n",
       "    </tr>\n",
       "    <tr>\n",
       "      <th>mvpa</th>\n",
       "      <td>1131</td>\n",
       "    </tr>\n",
       "  </tbody>\n",
       "</table>\n",
       "</div>"
      ],
      "text/plain": [
       "pop          0\n",
       "succ         0\n",
       "p_succ       0\n",
       "pop_20       0\n",
       "mvpa      1131\n",
       "dtype: int64"
      ]
     },
     "execution_count": 4,
     "metadata": {},
     "output_type": "execute_result"
    }
   ],
   "source": [
    "system = System(t_0 = 0,\n",
    "                t_final = 20,\n",
    "                growth_rate = 0.0565\n",
    "                )\n",
    "init_pop = 500\n",
    "\n",
    "state = State(pop = 0, succ = 0, p_succ = 0, pop_20 = 0, mvpa =  1131)\n",
    "#http://www.wec.ufl.edu/academics/courses/wis4554/WebUpdate/ReadingsWIS5555/PVA/Reed%20et%20al%20PVA%20estimates%202003BiolCons113_23.pdf\n"
   ]
  },
  {
   "cell_type": "markdown",
   "metadata": {},
   "source": [
    "Here we establish `run_simulation1` which simulates population increase for the first year, and `run_simulation_2_20` which simulates the population increase for the next twenty years. These are separate functions so the first one can set the population value (which is being swept) back to the starting value and the fucntion doesn't compound itself when being run."
   ]
  },
  {
   "cell_type": "code",
   "execution_count": 5,
   "metadata": {},
   "outputs": [],
   "source": [
    "def run_simulation1(state, system, init_pop):\n",
    "   #this function is for computing the population for the first year             \n",
    "    \n",
    "    state.pop = int(init_pop)\n",
    "    \n",
    "    for i in range (state.pop): #make this a variable!\n",
    "       \n",
    "        if flip(system.growth_rate):\n",
    "            state.pop += 1\n",
    "    \n",
    "    return state.pop\n",
    "\n",
    "def run_simulation2_20(state, system):\n",
    "    \n",
    "    for i in range (state.pop): #make this a variable!\n",
    "       \n",
    "        if flip(system.growth_rate):\n",
    "            state.pop += 1\n",
    "    \n",
    "    return state.pop"
   ]
  },
  {
   "cell_type": "markdown",
   "metadata": {},
   "source": [
    "`run_simulation20` runs the two prior functions such that an ending population is procured stochastically from the initial population.  "
   ]
  },
  {
   "cell_type": "code",
   "execution_count": 6,
   "metadata": {},
   "outputs": [],
   "source": [
    "def run_simulation20(state, system, init_pop):\n",
    "    #this function is for computing the final population at the end of the twenty years\n",
    "    for i in linrange(1,20,1): #Can we not hardcode this?\n",
    "        \n",
    "        if i == 1:\n",
    "            state.pop_20 = run_simulation1(state, system, init_pop) \n",
    "        if i >= 2:\n",
    "            state.pop_20 = run_simulation2_20(state, system)\n",
    "    \n",
    "    return state.pop_20"
   ]
  },
  {
   "cell_type": "markdown",
   "metadata": {},
   "source": [
    "This stores the final population at the end of a 20 year simulation in a variable called final:"
   ]
  },
  {
   "cell_type": "code",
   "execution_count": 32,
   "metadata": {},
   "outputs": [
    {
     "data": {
      "text/plain": [
       "300"
      ]
     },
     "execution_count": 32,
     "metadata": {},
     "output_type": "execute_result"
    }
   ],
   "source": [
    "final = run_simulation20(state, system, init_pop)\n",
    "init_pop = 300"
   ]
  },
  {
   "cell_type": "markdown",
   "metadata": {},
   "source": [
    "As `run_many_times` suggests, the simulation will be run many (100) times to generate a stochastic time series of data. A probability is calculated from the number of times the population meets or exceeds the MVPa threshold. "
   ]
  },
  {
   "cell_type": "code",
   "execution_count": 33,
   "metadata": {},
   "outputs": [],
   "source": [
    "record = TimeSeries()\n",
    "def run_many_times(state, system, record):\n",
    "    state.succ = 0\n",
    "    \n",
    "    for i in range(5):\n",
    "        record[i] = run_simulation20(state, system, init_pop)\n",
    "    \n",
    "        if record[i] >= state.mvpa:\n",
    "            state.succ += 1\n",
    "    \n",
    "\n",
    "    state.p_succ = float(state.succ / 5.0)\n",
    "    return state\n",
    "            \n",
    "#state.p_succ = run_many_times(state, system, record)\n",
    "#print(state.p_succ)\n"
   ]
  },
  {
   "cell_type": "code",
   "execution_count": 34,
   "metadata": {},
   "outputs": [
    {
     "data": {
      "text/html": [
       "<div>\n",
       "<style scoped>\n",
       "    .dataframe tbody tr th:only-of-type {\n",
       "        vertical-align: middle;\n",
       "    }\n",
       "\n",
       "    .dataframe tbody tr th {\n",
       "        vertical-align: top;\n",
       "    }\n",
       "\n",
       "    .dataframe thead th {\n",
       "        text-align: right;\n",
       "    }\n",
       "</style>\n",
       "<table border=\"1\" class=\"dataframe\">\n",
       "  <thead>\n",
       "    <tr style=\"text-align: right;\">\n",
       "      <th></th>\n",
       "      <th>values</th>\n",
       "    </tr>\n",
       "  </thead>\n",
       "  <tbody>\n",
       "    <tr>\n",
       "      <th>pop</th>\n",
       "      <td>0</td>\n",
       "    </tr>\n",
       "    <tr>\n",
       "      <th>succ</th>\n",
       "      <td>5</td>\n",
       "    </tr>\n",
       "    <tr>\n",
       "      <th>p_succ</th>\n",
       "      <td>1</td>\n",
       "    </tr>\n",
       "    <tr>\n",
       "      <th>pop_20</th>\n",
       "      <td>1060</td>\n",
       "    </tr>\n",
       "    <tr>\n",
       "      <th>mvpa</th>\n",
       "      <td>1131</td>\n",
       "    </tr>\n",
       "  </tbody>\n",
       "</table>\n",
       "</div>"
      ],
      "text/plain": [
       "pop          0\n",
       "succ         5\n",
       "p_succ       1\n",
       "pop_20    1060\n",
       "mvpa      1131\n",
       "dtype: int64"
      ]
     },
     "execution_count": 34,
     "metadata": {},
     "output_type": "execute_result"
    }
   ],
   "source": [
    "state"
   ]
  },
  {
   "cell_type": "markdown",
   "metadata": {},
   "source": [
    "Finally, we sweep the starting population size to see how likely a given population size of the whooping crane is to meet the MVPa threshold. "
   ]
  },
  {
   "cell_type": "code",
   "execution_count": 23,
   "metadata": {},
   "outputs": [],
   "source": [
    "init_pop_array = linrange(420, 440, 1)\n",
    "\n",
    "final_results = SweepSeries()\n",
    "\n",
    "for init_pop in init_pop_array:\n",
    "    \n",
    "    state = run_many_times(state, system, record)\n",
    "    final_results[init_pop] = float(state.p_succ)"
   ]
  },
  {
   "cell_type": "markdown",
   "metadata": {},
   "source": [
    "Here, we graph the results (probability of success vs. starting population) and highlight the probability for the known population of the whooping crane."
   ]
  },
  {
   "cell_type": "code",
   "execution_count": 24,
   "metadata": {},
   "outputs": [
    {
     "data": {
      "text/plain": [
       "[<matplotlib.lines.Line2D at 0x1bcee2d7c88>]"
      ]
     },
     "execution_count": 24,
     "metadata": {},
     "output_type": "execute_result"
    },
    {
     "data": {
      "image/png": "[encoded data removed]",
      "text/plain": [
       "<Figure size 432x288 with 1 Axes>"
      ]
     },
     "metadata": {
      "needs_background": "light"
     },
     "output_type": "display_data"
    }
   ],
   "source": [
    "plot(final_results)"
   ]
  },
  {
   "cell_type": "markdown",
   "metadata": {},
   "source": [
    "https://www.esasuccess.org/2016/index.html\n",
    "http://www.wec.ufl.edu/academics/courses/wis4554/WebUpdate/ReadingsWIS5555/PVA/Reed%20et%20al%20PVA%20estimates%202003BiolCons113_23.pdf\n",
    "    "
   ]
  },
  {
   "cell_type": "code",
   "execution_count": 25,
   "metadata": {},
   "outputs": [
    {
     "data": {
      "text/html": [
       "<div>\n",
       "<style scoped>\n",
       "    .dataframe tbody tr th:only-of-type {\n",
       "        vertical-align: middle;\n",
       "    }\n",
       "\n",
       "    .dataframe tbody tr th {\n",
       "        vertical-align: top;\n",
       "    }\n",
       "\n",
       "    .dataframe thead th {\n",
       "        text-align: right;\n",
       "    }\n",
       "</style>\n",
       "<table border=\"1\" class=\"dataframe\">\n",
       "  <thead>\n",
       "    <tr style=\"text-align: right;\">\n",
       "      <th></th>\n",
       "      <th>values</th>\n",
       "    </tr>\n",
       "  </thead>\n",
       "  <tbody>\n",
       "    <tr>\n",
       "      <th>420</th>\n",
       "      <td>1.0</td>\n",
       "    </tr>\n",
       "    <tr>\n",
       "      <th>421</th>\n",
       "      <td>0.0</td>\n",
       "    </tr>\n",
       "    <tr>\n",
       "      <th>422</th>\n",
       "      <td>1.0</td>\n",
       "    </tr>\n",
       "    <tr>\n",
       "      <th>423</th>\n",
       "      <td>1.0</td>\n",
       "    </tr>\n",
       "    <tr>\n",
       "      <th>424</th>\n",
       "      <td>1.0</td>\n",
       "    </tr>\n",
       "    <tr>\n",
       "      <th>425</th>\n",
       "      <td>1.0</td>\n",
       "    </tr>\n",
       "    <tr>\n",
       "      <th>426</th>\n",
       "      <td>1.0</td>\n",
       "    </tr>\n",
       "    <tr>\n",
       "      <th>427</th>\n",
       "      <td>1.0</td>\n",
       "    </tr>\n",
       "    <tr>\n",
       "      <th>428</th>\n",
       "      <td>1.0</td>\n",
       "    </tr>\n",
       "    <tr>\n",
       "      <th>429</th>\n",
       "      <td>1.0</td>\n",
       "    </tr>\n",
       "    <tr>\n",
       "      <th>430</th>\n",
       "      <td>1.0</td>\n",
       "    </tr>\n",
       "    <tr>\n",
       "      <th>431</th>\n",
       "      <td>1.0</td>\n",
       "    </tr>\n",
       "    <tr>\n",
       "      <th>432</th>\n",
       "      <td>1.0</td>\n",
       "    </tr>\n",
       "    <tr>\n",
       "      <th>433</th>\n",
       "      <td>1.0</td>\n",
       "    </tr>\n",
       "    <tr>\n",
       "      <th>434</th>\n",
       "      <td>1.0</td>\n",
       "    </tr>\n",
       "    <tr>\n",
       "      <th>435</th>\n",
       "      <td>1.0</td>\n",
       "    </tr>\n",
       "    <tr>\n",
       "      <th>436</th>\n",
       "      <td>1.0</td>\n",
       "    </tr>\n",
       "    <tr>\n",
       "      <th>437</th>\n",
       "      <td>1.0</td>\n",
       "    </tr>\n",
       "    <tr>\n",
       "      <th>438</th>\n",
       "      <td>1.0</td>\n",
       "    </tr>\n",
       "    <tr>\n",
       "      <th>439</th>\n",
       "      <td>1.0</td>\n",
       "    </tr>\n",
       "  </tbody>\n",
       "</table>\n",
       "</div>"
      ],
      "text/plain": [
       "420    1.0\n",
       "421    0.0\n",
       "422    1.0\n",
       "423    1.0\n",
       "424    1.0\n",
       "425    1.0\n",
       "426    1.0\n",
       "427    1.0\n",
       "428    1.0\n",
       "429    1.0\n",
       "430    1.0\n",
       "431    1.0\n",
       "432    1.0\n",
       "433    1.0\n",
       "434    1.0\n",
       "435    1.0\n",
       "436    1.0\n",
       "437    1.0\n",
       "438    1.0\n",
       "439    1.0\n",
       "dtype: float64"
      ]
     },
     "execution_count": 25,
     "metadata": {},
     "output_type": "execute_result"
    }
   ],
   "source": [
    "final_results"
   ]
  },
  {
   "cell_type": "code",
   "execution_count": null,
   "metadata": {},
   "outputs": [],
   "source": []
  }
 ],
 "metadata": {
  "kernelspec": {
   "display_name": "Python 3",
   "language": "python",
   "name": "python3"
  },
  "language_info": {
   "codemirror_mode": {
    "name": "ipython",
    "version": 3
   },
   "file_extension": ".py",
   "mimetype": "text/x-python",
   "name": "python",
   "nbconvert_exporter": "python",
   "pygments_lexer": "ipython3",
   "version": "3.6.6"
  }
 },
 "nbformat": 4,
 "nbformat_minor": 2
}
