{
 "cells": [
  {
   "cell_type": "markdown",
   "metadata": {},
   "source": [
    "# Investigating Heat Transfer as a Function of Changing Volume\n",
    "November 4, 2018\n",
    "\n",
    "Duncan Mazza and Deborah Bowen"
   ]
  },
  {
   "cell_type": "code",
   "execution_count": 1,
   "metadata": {},
   "outputs": [
    {
     "ename": "ModuleNotFoundError",
     "evalue": "No module named 'modsim'",
     "output_type": "error",
     "traceback": [
      "\u001b[1;31m---------------------------------------------------------------------------\u001b[0m",
      "\u001b[1;31mModuleNotFoundError\u001b[0m                       Traceback (most recent call last)",
      "\u001b[1;32m<ipython-input-1-09a10b427556>\u001b[0m in \u001b[0;36m<module>\u001b[1;34m()\u001b[0m\n\u001b[0;32m      6\u001b[0m \u001b[1;33m\u001b[0m\u001b[0m\n\u001b[0;32m      7\u001b[0m \u001b[1;31m# import functions from the modsim.py module\u001b[0m\u001b[1;33m\u001b[0m\u001b[1;33m\u001b[0m\u001b[0m\n\u001b[1;32m----> 8\u001b[1;33m \u001b[1;32mfrom\u001b[0m \u001b[0mmodsim\u001b[0m \u001b[1;32mimport\u001b[0m \u001b[1;33m*\u001b[0m\u001b[1;33m\u001b[0m\u001b[0m\n\u001b[0m\u001b[0;32m      9\u001b[0m \u001b[1;32mimport\u001b[0m \u001b[0mpandas\u001b[0m \u001b[1;32mas\u001b[0m \u001b[0mpd\u001b[0m\u001b[1;33m\u001b[0m\u001b[0m\n\u001b[0;32m     10\u001b[0m \u001b[1;32mfrom\u001b[0m \u001b[0mscipy\u001b[0m \u001b[1;32mimport\u001b[0m \u001b[0mstats\u001b[0m\u001b[1;33m\u001b[0m\u001b[0m\n",
      "\u001b[1;31mModuleNotFoundError\u001b[0m: No module named 'modsim'"
     ]
    }
   ],
   "source": [
    "# Configure Jupyter so figures appear in the notebook\n",
    "%matplotlib inline\n",
    "\n",
    "# Configure Jupyter to display the assigned value after an assignment\n",
    "%config InteractiveShell.ast_node_interactivity='last_expr_or_assign'\n",
    "\n",
    "# import functions from the modsim.py module\n",
    "from modsim import *\n",
    "import pandas as pd\n",
    "from scipy import stats\n",
    "import numpy as np"
   ]
  },
  {
   "cell_type": "markdown",
   "metadata": {},
   "source": [
    "# Question\n",
    "The phenomenon in question is a universal one - one that anyone who consumes hot beverages experiences on a regular occurrence: As a hot drink is being consumed, the liquid loses heat faster as less volume remains. The resulting experience is a drink that grows colder faster the more rapidly it is consumed. Thus, we set out to answer the questions: \n",
    "1. How can this relationship between changing volume and changing rate of temperature drop be qualitatively explained?\n",
    "2. Can we predict the final temperature of a fluid at a given time based on its starting temperature, the temperature of its environment, the heat transfer coefficient specific to its container, the dimensions of the container (a rectangular prism with a square base), and its rate of change of volume (assumed to be constant)?"
   ]
  },
  {
   "cell_type": "markdown",
   "metadata": {},
   "source": [
    "# Model\n",
    "To answer these questions, we start with $dTdt = -r * (T - T_{env})$ where $T_{env}$ is the temperature of the environment, and $r$ is a constant that represents: $(h*A)/(C*m)$ where $h$ is the heat transfer coefficient, $A$ is the surface area of convection, $C$ is the specific heat of water, and $m$ is the mass of the water. Thus, $r$ can be represented as a function of the volume of water. The following assumptions are made in our model: \n",
    "1. The heat transfer is assumed to be constant over all surfaces of the container, which in the physical world isn't true. The heat transfer coefficient is different depending on whether the water is in contact with the air or with the walls of the container. Because the container we are modeling is a plastic container and therefore of low conductivity, we believe this is negligible. \n",
    "2. Because the dimensions of the container must be defined to avoid a two-dimensional function, we reference the container used in the later experiment: a 0.13m x 0.13m x 0.05m plastic container.\n",
    "3. Because the heat transfer constant is an empirically determined value, we chose the value of `h = 0.09` to match our mathematical model as close as possible to our empirical model (seen later in the essay). \n",
    "While this is an empirically-driven mathematical model, these values must be measured to achieve a two-dimensional result. Thus, our results are constrained to interpretation only in the context of our specific container, but the model is flexible enough to accommodate any container so long as the empirical information is supplied.\n",
    "\n",
    "The function that takes $V$ as an argument and returns $r$ is shown below:"
   ]
  },
  {
   "cell_type": "code",
   "execution_count": null,
   "metadata": {},
   "outputs": [],
   "source": [
    "# Function of r using math:\n",
    "def r_math(V):\n",
    "\n",
    "    if V > 0:\n",
    "        # size of box:\n",
    "        x = .13\n",
    "        \n",
    "        mass = V*0.001\n",
    "\n",
    "        # heat transfer coefficient between air and water\n",
    "        h = 0.09\n",
    "        # heat capacity of water\n",
    "        C = 4.184\n",
    "\n",
    "        # surface area as a function of volume (volume in the equation is in \n",
    "        # kiloliters, so it needs to be converted to milliliters)\n",
    "        SA = 2 * (x**2) + (4 * (V * 0.000001)) / x\n",
    "    \n",
    "    else:\n",
    "        x = .13\n",
    "        mass = .001\n",
    "        h = 0.09\n",
    "        C = 4.184\n",
    "        SA = 2 * (x**2) + (4 * (V * 0.000001)) / x\n",
    "    return ((h * SA)/(C * mass))"
   ]
  },
  {
   "cell_type": "code",
   "execution_count": null,
   "metadata": {},
   "outputs": [],
   "source": [
    "# Visualizing r_math:\n",
    "listv = []\n",
    "listr = []\n",
    "for V in range(20, 700):\n",
    "    listv.append(V)\n",
    "    listr.append(r_math(V))\n",
    "    \n",
    "plot(listv, listr)\n",
    "decorate(xlabel = 'Volume (mL)',\n",
    "         ylabel = 'r (1/sec)',\n",
    "         title = 'Fig.1: Mathematical Function of r vs Volume')"
   ]
  },
  {
   "cell_type": "markdown",
   "metadata": {},
   "source": [
    "When using $dTdt$ to update the temperature stock of the water, instead of passing in `r` as a constant, it is passed in as the function `r_math` evaluated at the volume `V` at the given time step. The volume too doesn't remain constant because it is being swept; the volume is passed in by `dVdt`. "
   ]
  },
  {
   "cell_type": "code",
   "execution_count": null,
   "metadata": {},
   "outputs": [],
   "source": [
    "def update_func(state, t, system, dvdt, r_math, math = True, \n",
    "                r_linear_function = r_math, slope = 0, intercept = 0):\n",
    "    \"\"\"Update the thermal transfer model.\n",
    "    \n",
    "    State objects:\n",
    "    Temperature of vessel\n",
    "    Volume of vessel\n",
    "    \n",
    "    t --> time\n",
    "    T --> Temperature\n",
    "    \n",
    "    returns: State object containing the stocks\n",
    "    \"\"\"\n",
    "    unpack(system)\n",
    "    \n",
    "    T = state.T\n",
    "    V = state.V\n",
    "    \n",
    "   \n",
    "    if(math == False):\n",
    "         # Empirically determined function of r vs. V, used later in the essay\n",
    "        r = unflipper(r_linear_function, slope, intercept, state.V)\n",
    "    else:\n",
    "        # Mathematically defined r value\n",
    "        r = r_math(state.V)\n",
    "        \n",
    "    dTdt = -r * (T - T_env)\n",
    "    # dvdt is passed in as an argument - it is being swept. \n",
    "    # We round it to two decimal points.\n",
    "    dvdt = round(dvdt, 2)\n",
    "\n",
    "    if(V > 0 and T > 25):\n",
    "        T += dTdt * dt\n",
    "        V += dvdt * dt\n",
    "    else:\n",
    "        V = 0\n",
    "        T = None\n",
    "    return State(T = T, V = V)"
   ]
  },
  {
   "cell_type": "code",
   "execution_count": null,
   "metadata": {},
   "outputs": [],
   "source": [
    "def run_simulation(system, update_func, dvdt, r_function, math = True, \n",
    "                   r_linear_function = r_math, slope = 0, intercept = 0):\n",
    "    \"\"\"Runs a simulation of the system.\n",
    "    \n",
    "    Add a TimeFrame to the System: results\n",
    "    \"\"\"\n",
    "    unpack(system)\n",
    "    \n",
    "    frame = TimeFrame(columns=init.index)\n",
    "    frame.row[0] = init\n",
    "    ts = linrange(0, t_end, dt)\n",
    "    \n",
    "    for t in ts:\n",
    "        frame.row[t+dt] = update_func(frame.row[t], t, system, dvdt, \n",
    "                                      r_function, \n",
    "                                      math = math, \n",
    "                                      r_linear_function = r_linear_function, \n",
    "                                      slope = slope, \n",
    "                                      intercept = intercept)\n",
    "    \n",
    "    # Store the final temperature in T_final\n",
    "    system.T_final = get_last_value(frame.T)\n",
    "    \n",
    "    return frame"
   ]
  },
  {
   "cell_type": "code",
   "execution_count": null,
   "metadata": {},
   "outputs": [],
   "source": [
    "def make_system(T_init, V_init, dvdt):\n",
    "    \"\"\"Makes a System object with the given parameters.\n",
    "\n",
    "    T_init: initial temperature in °C\n",
    "    V_init: initial volume in mL\n",
    "    r: heat transfer rate - when run, a function of r will be substituted in for it\n",
    "    t_end: end time of simulation\n",
    "    T_env: temperature of the environment\n",
    "    dt: time step\n",
    "    \n",
    "    returns: System object\n",
    "    \"\"\"\n",
    "    init = State(T = T_init, V = V_init)\n",
    "    \n",
    "    # T_final is used to store the final temperature.\n",
    "    # Before the simulation runs, T_final = T_init\n",
    "    # We do the same thing for Volume\n",
    "    T_final = T_init\n",
    "    V_final = V_init\n",
    "    \n",
    "    T_env = 25\n",
    "    dt = 1\n",
    "    \n",
    "    # n_sweep stands for the number of sweeps that the model will perform\n",
    "    n_sweep = 9\n",
    "    \n",
    "    # t_end stands for the number of seconds that the \n",
    "    # simulation will be run for\n",
    "    t_end = 600\n",
    "    \n",
    "    '''\n",
    "    Used at the end of this simulation, this is the threshold \n",
    "    that determines what rates of volume change over a given\n",
    "    time period will result in a temperature at or over 40°C.\n",
    "    '''\n",
    "    minimum_acceptable_temp = 40\n",
    "    \n",
    "    return System(locals())\n",
    "\n",
    "system = make_system(85, 700, -1);"
   ]
  },
  {
   "cell_type": "code",
   "execution_count": null,
   "metadata": {},
   "outputs": [],
   "source": [
    "def sweepdVdt(system, math = True):\n",
    "    sweep = SweepSeries()\n",
    "    dvdt_range = linspace(-5,0,system.n_sweep)\n",
    "    \n",
    "    # Check if the function is being called for a mathematical or empirical \n",
    "    # sweep, then run the simulation for the range of dVdt\n",
    "    if(math):\n",
    "        for t in range(0, system.n_sweep):\n",
    "            dvdt = dvdt_range[t]\n",
    "            sweep[t] = run_simulation(system, update_func, dvdt, r_math)\n",
    "    else:    \n",
    "        for t in range(0, system.n_sweep):\n",
    "            dvdt = dvdt_range[t]\n",
    "            sweep[t] = run_simulation(system, update_func, dvdt, unflipper, \n",
    "                                      math = False, \n",
    "                                      r_linear_function=r_linear_function, \n",
    "                                      slope=slope, intercept=intercept)\n",
    "    return sweep\n",
    "\n",
    "swept = sweepdVdt(system);"
   ]
  },
  {
   "cell_type": "markdown",
   "metadata": {},
   "source": [
    "### Qualitative Result of Mathematical Model:"
   ]
  },
  {
   "cell_type": "code",
   "execution_count": null,
   "metadata": {},
   "outputs": [],
   "source": [
    "dvdt_range = linspace(-5, 0, system.n_sweep)\n",
    "fig = plt.figure()\n",
    "ax = plt.subplot(111);\n",
    "for i in range(system.n_sweep):\n",
    "    dvdt = round(dvdt_range[i], 2)\n",
    "    ax.plot(swept[i].index, swept[i].T, label = str(dvdt) + ' mL/sec')\n",
    "    decorate(xlabel = 'Time (sec)',\n",
    "            ylabel = 'Temperature (°C)',\n",
    "            title = 'Fig. 2: Temperature of Water as Volume Decreases over'\n",
    "             ' {} sec'.format(system.t_end))\n",
    "    ax.legend(bbox_to_anchor=(1.1, 1.05))"
   ]
  },
  {
   "cell_type": "markdown",
   "metadata": {},
   "source": [
    "The qualitative result appears to validate our experiences with consuming hot liquids: the higher the rate of change of volume, the quicker the drop in temperature. However, because this is a mathematical model, when the volume is zero, an infinite slope of temperature over time results. This is not something that is observed in the physical world and is a shortcoming of the mathematical model. Additionally, the jump in inal temperature between -3.12 mL/sec and -2/5 mL/sec is also not expected to occur in the real world, and i"
   ]
  },
  {
   "cell_type": "markdown",
   "metadata": {},
   "source": [
    "### Quantitative Result of Mathematical Model\n",
    "The final temperatures of each $dvdt$ sweep are plotted below, along with a `minimum_acceptable_temperature.` The following code exists to extract those final temperatures, and the `minimum_acceptable_temperature.` represents an arbitrary threshold that can be set to determine what rates of change of volume will yield the desired temperature. It is important to note that the following results are specific to not only the container used for the experiment but also the 600 second time frame that is modeled. "
   ]
  },
  {
   "cell_type": "code",
   "execution_count": null,
   "metadata": {},
   "outputs": [],
   "source": [
    "# Creating the time series in which the last temperatures from each dVdt \n",
    "# sweep will be stored.\n",
    "last_temp = TimeSeries()\n",
    "\n",
    "def determine_last_temp(last_temp, system, swept):\n",
    "    '''\n",
    "    Selecting the last values from each sweep by selecting the temperature \n",
    "    associated with the point at which the volume first hits 0 mL. If the \n",
    "    volume never reaches 0, the last temperature is still selected. \n",
    "    '''\n",
    "    for i in range(system.n_sweep):\n",
    "        for t in range(system.t_end):\n",
    "            if (40<=swept[i].V[t]<=50 or t == system.t_end - 1):\n",
    "                last_temp[i] = swept[i].T[t-1]\n",
    "                break\n",
    "    return last_temp\n",
    "\n",
    "last_temp = determine_last_temp(last_temp, system, swept)\n",
    "\n",
    "'''\n",
    "To plot the data against dVdt and not against the sweep numbers, the dVdt \n",
    "values and last temperature values will be converted into lists and then \n",
    "plotted against each other.\n",
    "'''\n",
    "dvdt_list = []\n",
    "last_temp_list = []\n",
    "\n",
    "for i in range(len(dvdt_range)):\n",
    "    dvdt_list.append(dvdt_range[i])\n",
    "    last_temp_list.append(last_temp[i])\n",
    "\n",
    "def plot_final_temp_and_minimum_acceptable_temp(dvdt_list, last_temp_list,\n",
    "                                                minimum_acceptable_temp):\n",
    "    plot(dvdt_list, last_temp_list, label = 'Final Temperature of Coffee')\n",
    "    \n",
    "    '''\n",
    "    The minimum acceptable temperature will be plotted as a line. \n",
    "    To achieve this, a list of length len(dvdt_range) will created \n",
    "    and contain the minimum acceptable temperature in each index. \n",
    "    '''\n",
    "    minimum_acceptable_temp_list = list()\n",
    "    for i in range(len(dvdt_range)):\n",
    "        minimum_acceptable_temp_list.append(minimum_acceptable_temp)\n",
    "    plot(dvdt_list, minimum_acceptable_temp_list, \n",
    "         label = 'Minimum Acceptable Temperature')\n",
    "    return minimum_acceptable_temp_list\n",
    "\n",
    "plot_final_temp_and_minimum_acceptable_temp(dvdt_list, \n",
    "                                            last_temp_list, minimum_acceptable_temp)                              \n",
    "decorate(xlabel = 'dVdt (mL/sec)', \n",
    "         ylabel = 'Final Temperature (°C)',\n",
    "         title = 'Fig. 3: Mathematical Model - Water Final Temp. after'\n",
    "         ' {} seconds'.format(system.t_end))"
   ]
  },
  {
   "cell_type": "markdown",
   "metadata": {},
   "source": [
    "This graph illustrates that, given enough parameters/information about a specific container, the final temperature can be predicted based on the rate of change of volume of the container. A minimum is expected to occur at approximately $dVdt$ = -2 because that indicates a cusp at which the container will either have zero or nonzero volume remaining (to the right and left of the cusp respectively). However, the graph is likely inaccurate because it exhibits an odd behavior: a local minimum and maximum occur between -4 < $dVdt$ < -3. There is no reason to suggest that this phenomenon should occur, as the relationship between volume and r does not exhibit any inflection points. A likely explanation for this shortcoming is the infinite slopes that exist in the temperature vs. time graphs when volume approaches 0, which may result in inaccurate readings at the extremities of the graphs. This mathematical model will be further analyzed in comparison to the following empirical model.    "
   ]
  },
  {
   "cell_type": "markdown",
   "metadata": {},
   "source": [
    "# Validation of Mathematical Model - Repeating  Model using Empirical Data"
   ]
  },
  {
   "cell_type": "markdown",
   "metadata": {},
   "source": [
    "In order to empirically obtain a graph of the heat transfer coefficient as a function of volume, we obtained a series of empirically determined $r$ values (specific to the container used in the experiments) at different volumes. Eleven different volumes in total were used, and to calculate the r value, the following procedure was used: \n",
    "1. Set up the experiment: connect a thermistor to a breadboard such that it is the second resistor in the voltage\n",
    "divider. The voltage divider must be connected to a 5V power supply and ground, and the first resistor must have a \n",
    "resistance of 1kΩ. Measure the voltage drop across the voltage divider.  \n",
    "2. Bring water to near-boiling temperature.\n",
    "3. Pour water into container on a scale until the desired mass/volume of water is achieved\n",
    "4. Insert the thermistor into the water.\n",
    "5. Record the starting voltage, as well as the voltage after 5 minutes.\n",
    "6. Convert the voltage to temperature using the following equation:\n",
    "    $T = (ln(5/Voltage - 1)/3528 + 1/298)^{-1} - 273$\n",
    "7. Calculate an r value using the following equation:\n",
    "    $r = 1 / t_{end} * log((T_{init} - T_{env})/(T_{end} - T_{env}))$\n",
    "8. Repeat steps 2-7 for as many changes in volume are desired."
   ]
  },
  {
   "cell_type": "code",
   "execution_count": null,
   "metadata": {},
   "outputs": [],
   "source": [
    "# A list of the data collected in our experiments. Each volume has \n",
    "# a corresponding calculated r value\n",
    "data = {'Volume': [118.354, 169.507,202.606,258.774,316.948,377.128,\n",
    "                   401.2,458.371,551.65,654.959,714.136], \n",
    "             'r': [0.007660215,0.00563342,0.004614561,0.003912183,\n",
    "                   0.003744291,0.003259004,0.002769218,\n",
    "                   0.002814454,0.002157224,0.001998175,0.001906878]}\n",
    "# Creating a DataFrame from our collected data:\n",
    "r_vs_volume_data = pd.DataFrame(data=data);\n",
    "\n",
    "plot(r_vs_volume_data['Volume'], r_vs_volume_data['r'], '*')\n",
    "decorate(xlabel = 'Volume (mL)', ylabel = 'Emperical r (1/sec)', \n",
    "         title = \"Fig. 4: Collected Data: Empirical r-value vs. Volume\")"
   ]
  },
  {
   "cell_type": "markdown",
   "metadata": {},
   "source": [
    "### Finding a curve of best fit for the data."
   ]
  },
  {
   "cell_type": "code",
   "execution_count": null,
   "metadata": {},
   "outputs": [],
   "source": [
    "'''\n",
    "In order to find a best fit curve, we first linearize the data in data2, \n",
    "then create r_vs_volume_transformed_data as the DataFrame that \n",
    "contains the linearized data.\n",
    "'''\n",
    "data2 = {'Volume': r_vs_volume_data['Volume'], \n",
    "         'Transformed r': 1 / r_vs_volume_data['r']}\n",
    "r_vs_volume_transformed_data = pd.DataFrame(data=data2);\n",
    "\n",
    "'''\n",
    "Code for plotting the results of the above:\n",
    "\n",
    "plot(r_vs_volume_transformed_data['Volume'], \n",
    "     r_vs_volume_transformed_data['Transformed r'], '*')\n",
    "decorate(xlabel = 'Volume (mL)', ylabel = 'Linearized r (sec)', \n",
    "         title = \"Experimental Data: Linearized r vs. Volume\")\n",
    "''';"
   ]
  },
  {
   "cell_type": "code",
   "execution_count": null,
   "metadata": {},
   "outputs": [],
   "source": [
    "# Calculate a linear best fit line for the transformed data\n",
    "x = r_vs_volume_transformed_data['Volume']\n",
    "y = r_vs_volume_transformed_data['Transformed r']\n",
    "slope, intercept, r_value, p_value, std_err = stats.linregress(x,y)\n",
    "\n",
    "#Create the line from calculated slope and intercept\n",
    "def r_linear_function(slope, intercept, volume):\n",
    "    r = slope * volume + intercept\n",
    "    return r\n",
    "\n",
    "'''\n",
    "Code for plotting the results of the above:\n",
    "\n",
    "r_plot = r_linear_function(slope, intercept, \n",
    "                           r_vs_volume_transformed_data['Volume'])\n",
    "\n",
    "def plot_linear_on_data(r_plot):\n",
    "    plot(r_vs_volume_transformed_data['Volume'], \n",
    "         r_vs_volume_transformed_data['Transformed r'], '*', label = \"Data\")\n",
    "    plot(r_vs_volume_transformed_data['Volume'], \n",
    "         r_plot, label = \"Line of Best Fit\")\n",
    "    decorate(xlabel = 'Volume (mL)', ylabel = 'Linearized r', \n",
    "             title = \"Line of Best fit with Linearized Data\")  \n",
    "plot_linear_on_data(r_plot)\n",
    "''';"
   ]
  },
  {
   "cell_type": "code",
   "execution_count": null,
   "metadata": {},
   "outputs": [],
   "source": [
    "# De-linearizes the data and the line of best fit to give the best fit curve, \n",
    "# returns the curve:\n",
    "def unflipper(r_linear_function, slope, intercept, volume):\n",
    "    r = r_linear_function(slope, intercept, volume) ** -1\n",
    "    return r\n",
    "\n",
    "r_nonlinear_function = unflipper(r_linear_function, slope, intercept, \n",
    "                                 r_vs_volume_transformed_data['Volume'])\n",
    "\n",
    "# Plots the curve of best fit with the data collected:\n",
    "def plot_nonlinear_on_data(r_nonlinear_function):\n",
    "    plot(r_vs_volume_data['Volume'], r_vs_volume_data['r'], \n",
    "         '*', label = \"Data\")\n",
    "    plot(r_vs_volume_data['Volume'], r_nonlinear_function, \n",
    "         label = \"Curve of Best Fit\")\n",
    "    decorate(xlabel = 'Volume (mL)', ylabel = 'Emperical r (1/sec)', \n",
    "             title = 'Fig. 5: Curve of Best fit for Collected data')\n",
    "\n",
    "plot_nonlinear_on_data(r_nonlinear_function)"
   ]
  },
  {
   "cell_type": "markdown",
   "metadata": {},
   "source": [
    "As expected, this curve closely resembles the mathematical one defined earlier, both in shape and in values, due to the fact that the mathematical model was calibrated to match this function. "
   ]
  },
  {
   "cell_type": "markdown",
   "metadata": {},
   "source": [
    "### Qualitative Result of Empirical Model\n",
    "\n",
    "Now, the simulation is run again with the empirically determined $r$ as a function of volume replacing the mathematical one:"
   ]
  },
  {
   "cell_type": "code",
   "execution_count": null,
   "metadata": {},
   "outputs": [],
   "source": [
    "swept2 = sweepdVdt(system, math = False);\n",
    "\n",
    "dvdt_range = linspace(-5,0,system.n_sweep)\n",
    "fig = plt.figure()\n",
    "ax = plt.subplot(111);\n",
    "for i in range(system.n_sweep):\n",
    "    dvdt = round(dvdt_range[i], 2)\n",
    "    ax.plot(swept[i].index, swept2[i].T, label = str(dvdt) + ' mL/sec')\n",
    "    decorate(xlabel = 'Time (sec)',\n",
    "            ylabel = 'Temperature (°C)',\n",
    "            title = 'Fig. 6: Empirical Model - Water Temp. as Volume Decreases'.format(system.t_end))\n",
    "    ax.legend(bbox_to_anchor=(1.1,1.05))"
   ]
  },
  {
   "cell_type": "markdown",
   "metadata": {},
   "source": [
    "While fig. 6 is similar to fig. 2, it represents our intuition that this scenario could not have an infinite $dTdt$. We suspect that this is attributable to the container, as it heats up because of the water and does not stay at a constant temperature as the mathematical model assumes. "
   ]
  },
  {
   "cell_type": "markdown",
   "metadata": {},
   "source": [
    "### Quantitative Result of Empirical Model"
   ]
  },
  {
   "cell_type": "code",
   "execution_count": null,
   "metadata": {},
   "outputs": [],
   "source": [
    "# Creating the time series in which the last temperatures from each dVdt \n",
    "# sweep will be stored.\n",
    "last_temp2 = TimeSeries()\n",
    "last_temp2 = determine_last_temp(last_temp2, system, swept2)\n",
    "\n",
    "# To plot the data against dVdt and not against the sweep numbers, the dvdt \n",
    "# values and last temperature values will be converted into lists and then\n",
    "# plotted against each other.\n",
    "dvdt_list2 = []\n",
    "last_temp_list2 = []\n",
    "\n",
    "for i in range(len(dvdt_range)):\n",
    "    dvdt_list2.append(dvdt_range[i])\n",
    "    last_temp_list2.append(last_temp2[i])\n",
    "\n",
    "plot_final_temp_and_minimum_acceptable_temp(dvdt_list, last_temp_list2, \n",
    "                                            minimum_acceptable_temp)\n",
    "\n",
    "decorate(xlabel = 'dVdt (mL/sec)', \n",
    "         ylabel = 'Final Temperature (°C)', \n",
    "         title = 'Fig. 7: Empirical Model - '\n",
    "             'Water Final Temp. after {} seconds'\n",
    "             .format(system.t_end))"
   ]
  },
  {
   "cell_type": "markdown",
   "metadata": {},
   "source": [
    "# Interpretation"
   ]
  },
  {
   "cell_type": "markdown",
   "metadata": {},
   "source": [
    "It is clear that the mathematical model and empirical model, while sharing common features such as being (mostly) concave and having a cusp at -2 < $dVdt$ < -1, deviate in a few key ways:\n",
    "1. The empirical model does not return a graph that contains more than one maximum point\n",
    "2. The mathematical model predicts in at least one scenario a final temperature of ≈25°C, whereas the empirical model predicts a lowest temperature of ≈33°C. \n",
    "\n",
    "While the mathematical model may predict a near-infinite $dTdt$ at $V$ ≈ 0 (and therefore a result such as room temperature water when $dVdt$ ≈1.88 mL/sec), the empirical model shows that, in reality, this is not reasonable. This, too, is backed up by our intuition, which would suggest that liquids do not suddenly become room temperature when $V$ ≈ 0 even if their volume is decreasing. \n",
    "\n",
    "\n",
    "Despite the assumptions that we included in our model, we were still able to successfully show the mathematical relationship between decreasing $dTdt$ and $dVdt$ of a fluid in an open vessel. In other words, we have explained the phenomenon of coffee cooling faster as it is consumed. Although the mathematical model produces a less-desireable result than the empirical model, given enough parameters, we are able to predict the final temperature of the fluid for a variety of $dVdt$ values. Furthermore, if a minimum acceptable temperature is desired for the water, the $dVdt$ values necessary to produce this temperature or greater can be delineated by the horizontal lines on fig. 3 and fig. 7.\n",
    "\n",
    "\n",
    "If this model's scope were to be extended, further steps could be taken to more accurately represent mathematically the heat transfer of the system. For example, consideration of the differences in convection between the walls of the container and the air could be added to the model. There could be additional exploration of the insulating properties of other containers and how these differences affect the results of the model. Another addition to this model could be the use of a piecewise function of $dVdt$, simulating more realistically how a person would consume a hot beverage in sips as opposed to a constant volume change.\n",
    "\n",
    "A relationship to note among the qualitative results: By the argument that there is a point of inflection where the cooling curve created by $dTdt$ over time changes from concave to convex, there must be a value of $dVdt$ for which the curve of $dTdt$ is an entirely linear relationship. Further expansion of this model could look into this relationship, optimizing $dVdt$ such that cooling could be a perfectly linear process.\n",
    "\n",
    "### Iteration of model:\n",
    "\n",
    "The model was initially running off of an empirical relationship between $r$ and $V$. Thus, it was not actually a model in the sense of it being completely mathematically based. Upon realization of this shortcoming, we added in a mathematical relationship relationship between $r$ and $V$, and then ran the model on both functions independently to compare the results. Another iteration that was made was adding in a quantitative analysis of the qualitative results. As eye-catching as the qualitative results are with their dovetail pattern of curves, they are not the punchline graphs we need. Therefore, we added in code that extracted data from these qualitative results to provide the punchline graphs of fig. 3 and fig. 7, a more easily interpretable result, and a clear answer to our second question. "
   ]
  },
  {
   "cell_type": "markdown",
   "metadata": {},
   "source": [
    "# Abstract"
   ]
  },
  {
   "cell_type": "markdown",
   "metadata": {},
   "source": [
    "The questions this model attempts to answer are, for an open vessel of water: \n",
    "1. How can the relationship between the water's $dVdt$ and $dTdt$ be qualitatively explained?\n",
    "2. Can the temperature of water be predicted given parameters such as its rate of volume change, information about its container, etc.?\n",
    "\n",
    "When the model invokes a mathematical function of the r (a number that acts as a coefficient in Newton's Law of cooling) as a function of volume, and the simulation is run for 600 seconds, the final temperature of the water can be predicted as a function of the rate of change of volume over the 600 seconds:"
   ]
  },
  {
   "cell_type": "code",
   "execution_count": null,
   "metadata": {},
   "outputs": [],
   "source": [
    "plot_final_temp_and_minimum_acceptable_temp(dvdt_list, last_temp_list,minimum_acceptable_temp)\n",
    "decorate(xlabel = 'dVdt (mL/sec)', \n",
    "         ylabel = 'Final Temperature (°C)', \n",
    "         title = 'Fig. 3: Mathematical Model - Water Final Temp. after {} seconds'.format(system.t_end))"
   ]
  },
  {
   "cell_type": "markdown",
   "metadata": {},
   "source": [
    "When the model invokes an empirical function of r, an output similar to the mathematical model results:"
   ]
  },
  {
   "cell_type": "code",
   "execution_count": null,
   "metadata": {},
   "outputs": [],
   "source": [
    "plot_final_temp_and_minimum_acceptable_temp(dvdt_list, last_temp_list2, \n",
    "                                            minimum_acceptable_temp)\n",
    "decorate(xlabel = 'dVdt (mL/sec)', \n",
    "         ylabel = 'Final Temperature (°C)', \n",
    "         title = 'Fig. 7: Empirical Model - '\n",
    "             'Water Final Temp. after {} seconds'\n",
    "             .format(system.t_end))"
   ]
  },
  {
   "cell_type": "markdown",
   "metadata": {},
   "source": [
    "It is clear that the mathematical model and empirical model, while sharing common features such as being (mostly) concave and having a cusp at -2 < $dVdt$ < -1, deviate in a few key ways. Although the mathematical model produces a less-desireable result than the empirical model, given enough parameters, we are able to predict the final temperature of the fluid for a variety of $dVdt$ values."
   ]
  }
 ],
 "metadata": {
  "kernelspec": {
   "display_name": "Python 3",
   "language": "python",
   "name": "python3"
  },
  "language_info": {
   "codemirror_mode": {
    "name": "ipython",
    "version": 3
   },
   "file_extension": ".py",
   "mimetype": "text/x-python",
   "name": "python",
   "nbconvert_exporter": "python",
   "pygments_lexer": "ipython3",
   "version": "3.6.6"
  }
 },
 "nbformat": 4,
 "nbformat_minor": 2
}
