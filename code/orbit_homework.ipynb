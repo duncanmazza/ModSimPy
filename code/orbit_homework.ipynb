{
 "cells": [
  {
   "cell_type": "markdown",
   "metadata": {},
   "source": [
    "## Modeling Earth's Orbit\n",
    "Duncan Mazza"
   ]
  },
  {
   "cell_type": "code",
   "execution_count": 1,
   "metadata": {},
   "outputs": [],
   "source": [
    "# Configure Jupyter so figures appear in the notebook\n",
    "%matplotlib inline\n",
    "\n",
    "# Configure Jupyter to display the assigned value after an assignment\n",
    "%config InteractiveShell.ast_node_interactivity='last_expr_or_assign'\n",
    "\n",
    "# import functions from the modsim.py module\n",
    "from modsim import *"
   ]
  },
  {
   "cell_type": "markdown",
   "metadata": {},
   "source": [
    "### Assignment:\n",
    "Model the Earth's orbit around the Sun starting at the helion (represented by r_init)"
   ]
  },
  {
   "cell_type": "code",
   "execution_count": 4,
   "metadata": {},
   "outputs": [
    {
     "name": "stdout",
     "output_type": "stream",
     "text": [
      "Initial velocity in the vertical Y direction is: 29999.99999999999 m/s\n"
     ]
    },
    {
     "data": {
      "text/html": [
       "<div>\n",
       "<style scoped>\n",
       "    .dataframe tbody tr th:only-of-type {\n",
       "        vertical-align: middle;\n",
       "    }\n",
       "\n",
       "    .dataframe tbody tr th {\n",
       "        vertical-align: top;\n",
       "    }\n",
       "\n",
       "    .dataframe thead th {\n",
       "        text-align: right;\n",
       "    }\n",
       "</style>\n",
       "<table border=\"1\" class=\"dataframe\">\n",
       "  <thead>\n",
       "    <tr style=\"text-align: right;\">\n",
       "      <th></th>\n",
       "      <th>values</th>\n",
       "    </tr>\n",
       "  </thead>\n",
       "  <tbody>\n",
       "    <tr>\n",
       "      <th>mass_e</th>\n",
       "      <td>5.972e+24</td>\n",
       "    </tr>\n",
       "    <tr>\n",
       "      <th>mass_s</th>\n",
       "      <td>1.989e+30</td>\n",
       "    </tr>\n",
       "    <tr>\n",
       "      <th>G</th>\n",
       "      <td>6.67408e-11</td>\n",
       "    </tr>\n",
       "    <tr>\n",
       "      <th>r_init</th>\n",
       "      <td>1.47e+11</td>\n",
       "    </tr>\n",
       "    <tr>\n",
       "      <th>t_end</th>\n",
       "      <td>3.2e+07</td>\n",
       "    </tr>\n",
       "    <tr>\n",
       "      <th>r_earth</th>\n",
       "      <td>6.371e+06</td>\n",
       "    </tr>\n",
       "    <tr>\n",
       "      <th>r_sun</th>\n",
       "      <td>6.95508e+08</td>\n",
       "    </tr>\n",
       "    <tr>\n",
       "      <th>v_init</th>\n",
       "      <td>30000</td>\n",
       "    </tr>\n",
       "    <tr>\n",
       "      <th>v_theta_init</th>\n",
       "      <td>1.5708</td>\n",
       "    </tr>\n",
       "    <tr>\n",
       "      <th>pos_theta_init</th>\n",
       "      <td>0</td>\n",
       "    </tr>\n",
       "    <tr>\n",
       "      <th>init</th>\n",
       "      <td>rx    1.470000e+11\n",
       "ry    0.000000e+00\n",
       "vx    8....</td>\n",
       "    </tr>\n",
       "  </tbody>\n",
       "</table>\n",
       "</div>"
      ],
      "text/plain": [
       "mass_e                                                    5.972e+24\n",
       "mass_s                                                    1.989e+30\n",
       "G                                                       6.67408e-11\n",
       "r_init                                                     1.47e+11\n",
       "t_end                                                       3.2e+07\n",
       "r_earth                                                   6.371e+06\n",
       "r_sun                                                   6.95508e+08\n",
       "v_init                                                        30000\n",
       "v_theta_init                                                 1.5708\n",
       "pos_theta_init                                                    0\n",
       "init              rx    1.470000e+11\n",
       "ry    0.000000e+00\n",
       "vx    8....\n",
       "dtype: object"
      ]
     },
     "execution_count": 4,
     "metadata": {},
     "output_type": "execute_result"
    }
   ],
   "source": [
    "pi = 3.1415926\n",
    "params = Params(mass_e  = 5.972e24, # mass of the earth\n",
    "                mass_s  = 1.989e30, # mass of the sun\n",
    "                G       = 6.67408e-11, # gravitational constant\n",
    "                r_init  = 1.47e11, # 149.6 million km\n",
    "                t_end   = 32e6, # end of the simulation (1 year's worth of seconds)\n",
    "                r_earth = 6.371e6, # for termination event (collision with Earth)\n",
    "                r_sun   = 695.508e6, # for termination event (collision with Earth)\n",
    "                v_init  = 30000,\n",
    "                v_theta_init = pi/2,\n",
    "                pos_theta_init = 0)\n",
    "\n",
    "def make_system(params):\n",
    "    unpack(params)\n",
    "    \n",
    "    rx, ry = pol2cart(pos_theta_init, r_init)\n",
    "    vx, vy = pol2cart(v_theta_init, v_init)\n",
    "    init = State(rx = rx, ry = ry, vx = vx, vy = vy)\n",
    "    print('Initial velocity in the vertical Y direction is:', vy, 'm/s')\n",
    "    return System(params, init=init)\n",
    "\n",
    "system = make_system(params)"
   ]
  },
  {
   "cell_type": "code",
   "execution_count": 5,
   "metadata": {},
   "outputs": [
    {
     "data": {
      "text/plain": [
       "'The solver successfully reached the end of the integration interval.'"
      ]
     },
     "execution_count": 5,
     "metadata": {},
     "output_type": "execute_result"
    }
   ],
   "source": [
    "def slope_func2(state, t, system):\n",
    "    unpack(system)\n",
    "    \n",
    "    rx, ry, vx, vy = state  \n",
    "    radius = Vector(rx, ry)\n",
    "    \n",
    "    # law of universal gravitation with vectors\n",
    "    force_magnitude = (G * mass_e * mass_s) / (radius.mag ** 2)\n",
    "    # Gravitational force is in opposite direction of radius vector,\n",
    "    # therefore the direction of the force is the negative of the radius\n",
    "    neg_radius = Vector(-rx, -ry)\n",
    "    unit_force_direction = neg_radius.hat()\n",
    "    force_x = unit_force_direction.x * force_magnitude\n",
    "    force_y = unit_force_direction.y * force_magnitude\n",
    "    \n",
    "    # X and Y velocities\n",
    "    dxdt = vx \n",
    "    dydt = vy \n",
    "    # F = ma, therefore a = F / m\n",
    "    dvxdt = force_x / mass_e\n",
    "    dvydt = force_y / mass_e\n",
    "    return dxdt, dydt, dvxdt, dvydt\n",
    "\n",
    "def event_func(state, t, system):\n",
    "    unpack(system)\n",
    "    rx, ry, vx, vy = state\n",
    "    radius = Vector(rx, ry)\n",
    "    r_final = (r_earth + r_sun)/2\n",
    "    return radius.mag - r_final\n",
    "    \n",
    "results, details = run_ode_solver(system, slope_func2, events = event_func, max_step=1e4)\n",
    "details.message"
   ]
  },
  {
   "cell_type": "code",
   "execution_count": 6,
   "metadata": {},
   "outputs": [],
   "source": [
    "results;"
   ]
  },
  {
   "cell_type": "code",
   "execution_count": 7,
   "metadata": {},
   "outputs": [
    {
     "data": {
      "image/png": "[encoded data removed]",
      "text/plain": [
       "<Figure size 432x288 with 1 Axes>"
      ]
     },
     "metadata": {},
     "output_type": "display_data"
    }
   ],
   "source": [
    "def plot_position(results):\n",
    "    plot(results.rx, results.ry, label='Orbit of Earth')\n",
    "    decorate(xlabel='X',\n",
    "             ylabel='Y')\n",
    "\n",
    "plot_position(results)\n",
    "\n",
    "decorate(title = 'The Orbit of Planet Earth')"
   ]
  },
  {
   "cell_type": "code",
   "execution_count": null,
   "metadata": {},
   "outputs": [],
   "source": [
    "plot(results.rx)\n",
    "plot(results.ry)"
   ]
  },
  {
   "cell_type": "code",
   "execution_count": null,
   "metadata": {},
   "outputs": [],
   "source": []
  }
 ],
 "metadata": {
  "kernelspec": {
   "display_name": "Python 3",
   "language": "python",
   "name": "python3"
  },
  "language_info": {
   "codemirror_mode": {
    "name": "ipython",
    "version": 3
   },
   "file_extension": ".py",
   "mimetype": "text/x-python",
   "name": "python",
   "nbconvert_exporter": "python",
   "pygments_lexer": "ipython3",
   "version": "3.6.6"
  }
 },
 "nbformat": 4,
 "nbformat_minor": 2
}
