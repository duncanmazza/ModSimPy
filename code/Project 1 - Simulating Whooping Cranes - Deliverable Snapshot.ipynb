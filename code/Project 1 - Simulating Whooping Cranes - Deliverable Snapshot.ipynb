{
 "cells": [
  {
   "cell_type": "markdown",
   "metadata": {},
   "source": [
    "# Project 1 - Simulating Endangered Populations"
   ]
  },
  {
   "cell_type": "markdown",
   "metadata": {},
   "source": [
    "Copyright 2018. Duncan Mazza and Aditya Sudhakar \n",
    "\n",
    "*No model is correct, but some are useful"
   ]
  },
  {
   "cell_type": "code",
   "execution_count": 1,
   "metadata": {},
   "outputs": [],
   "source": [
    "# Configure Jupyter so figures appear in the notebook\n",
    "%matplotlib inline\n",
    "\n",
    "# Configure Jupyter to display the assigned value after an assignment\n",
    "%config InteractiveShell.ast_node_interactivity='last_expr_or_assign'\n",
    "\n",
    "# import functions from the modsim library\n",
    "from modsim import *\n",
    "from pandas import read_html "
   ]
  },
  {
   "cell_type": "code",
   "execution_count": 2,
   "metadata": {},
   "outputs": [],
   "source": [
    "def plot_results(census, un, timeseries, title):\n",
    "    \"\"\"Plot the estimates and the model.\n",
    "    \n",
    "    census: TimeSeries of population estimates\n",
    "    un: TimeSeries of population estimates\n",
    "    timeseries: TimeSeries of simulation results\n",
    "    title: string\n",
    "    \"\"\"\n",
    "    plot()\n",
    "    plot()\n",
    "    if len(timeseries):\n",
    "        plot(timeseries, color='gray', label='model')\n",
    "    \n",
    "    decorate(xlabel='', \n",
    "             ylabel='',\n",
    "             title=title)"
   ]
  },
  {
   "cell_type": "markdown",
   "metadata": {},
   "source": [
    "## Can we predict whether an endangered species will survive in a given amount of time? \n",
    "\n",
    "We live in a time of decreasing bio-diversity and increasing numbers of endangered species. When taking conservational measures with a species, it is important to make predictions about the future of the species. Existing metrics for this exist - notably, the MVP, or minimum viable population. The minimum viable population (specifically the MVPa metric) refers to, \"A is the minimum viable adult population size as estimated from the available data regardless of study length,\" according to the paper cited at the end of the essay. \n",
    "\n",
    "What our model aims to do is predict for a given population of animals with known birth/death rates and MVPa values whether they will reach that MVPc threshold within 20 years. Essentially, can we expect that the population will reach a minimum threshold for survivability within the next 20 years? \n",
    "\n",
    "Our model will produce a graph that plots aforementioned probability versus the given population. To determine the parameters used for our model, we will examine the whooping crane (*grus americana*). The parameters are:\n",
    "1. Population growth rate:\n",
    "    This is determined from the population graph of the whooping crane obtained from the center for biological diversity. We used the population of 150 from 1995 and the population of 450 from 2015 to obtain a grwoth of 300 cranes over the last 20 years. Fit to an exponential model (which the population graph follows), the year-over-year growth rate was approximately 5.65%:\n"
   ]
  },
  {
   "cell_type": "code",
   "execution_count": 3,
   "metadata": {},
   "outputs": [],
   "source": [
    "# code to show how we got to the 5.65% value"
   ]
  },
  {
   "cell_type": "markdown",
   "metadata": {},
   "source": [
    "2. MVPa value:\n",
    "    The study (cited at the end) lists the MVPa value for the whooping crane to be 1131 cranes. This will be used as the threshold for success in our model. The final output will be a probability, and that proability is determined by the number of successes and failures. \n",
    "    \n",
    "We will store these parameters as follows:"
   ]
  },
  {
   "cell_type": "code",
   "execution_count": 11,
   "metadata": {},
   "outputs": [
    {
     "data": {
      "text/html": [
       "<div>\n",
       "<style scoped>\n",
       "    .dataframe tbody tr th:only-of-type {\n",
       "        vertical-align: middle;\n",
       "    }\n",
       "\n",
       "    .dataframe tbody tr th {\n",
       "        vertical-align: top;\n",
       "    }\n",
       "\n",
       "    .dataframe thead th {\n",
       "        text-align: right;\n",
       "    }\n",
       "</style>\n",
       "<table border=\"1\" class=\"dataframe\">\n",
       "  <thead>\n",
       "    <tr style=\"text-align: right;\">\n",
       "      <th></th>\n",
       "      <th>values</th>\n",
       "    </tr>\n",
       "  </thead>\n",
       "  <tbody>\n",
       "    <tr>\n",
       "      <th>pop</th>\n",
       "      <td>0</td>\n",
       "    </tr>\n",
       "    <tr>\n",
       "      <th>succ</th>\n",
       "      <td>0</td>\n",
       "    </tr>\n",
       "    <tr>\n",
       "      <th>p_succ</th>\n",
       "      <td>0</td>\n",
       "    </tr>\n",
       "    <tr>\n",
       "      <th>pop_20</th>\n",
       "      <td>0</td>\n",
       "    </tr>\n",
       "    <tr>\n",
       "      <th>mvpa</th>\n",
       "      <td>1131</td>\n",
       "    </tr>\n",
       "  </tbody>\n",
       "</table>\n",
       "</div>"
      ],
      "text/plain": [
       "pop          0\n",
       "succ         0\n",
       "p_succ       0\n",
       "pop_20       0\n",
       "mvpa      1131\n",
       "dtype: int64"
      ]
     },
     "execution_count": 11,
     "metadata": {},
     "output_type": "execute_result"
    }
   ],
   "source": [
    "system = System(t_0 = 0,\n",
    "                t_final = 20,\n",
    "                growth_rate = 0.0565\n",
    "                )\n",
    "init_pop = 500\n",
    "\n",
    "state = State(pop = 0, succ = 0, p_succ = 0, pop_20 = 0, mvpa =  1131)\n",
    "#http://www.wec.ufl.edu/academics/courses/wis4554/WebUpdate/ReadingsWIS5555/PVA/Reed%20et%20al%20PVA%20estimates%202003BiolCons113_23.pdf\n"
   ]
  },
  {
   "cell_type": "markdown",
   "metadata": {},
   "source": [
    "Here we establish `run_simulation1` which simulates population increase for the first year, and `run_simulation_2_20` which simulates the population increase for the next twenty years. These are separate functions so the first one can set the population value (which is being swept) back to the starting value and the fucntion doesn't compound itself when being run."
   ]
  },
  {
   "cell_type": "code",
   "execution_count": 12,
   "metadata": {},
   "outputs": [],
   "source": [
    "def run_simulation1(state, system, init_pop):\n",
    "   #this function is for computing the population for the first year             \n",
    "    \n",
    "    state.pop = int(init_pop)\n",
    "    \n",
    "    for i in range (state.pop): #make this a variable!\n",
    "       \n",
    "        if flip(system.birth_rate):\n",
    "            state.pop += 1\n",
    "    \n",
    "    return state.pop\n",
    "\n",
    "def run_simulation2_20(state, system):\n",
    "    \n",
    "    for i in range (state.pop): #make this a variable!\n",
    "       \n",
    "        if flip(system.birth_rate):\n",
    "            state.pop += 1\n",
    "        if flip(system.death_rate):\n",
    "            state.pop -=1\n",
    "    \n",
    "    return state.pop"
   ]
  },
  {
   "cell_type": "markdown",
   "metadata": {},
   "source": [
    "`run_simulation20` runs the two prior functions such that an ending population is procured stochastically from the initial population.  "
   ]
  },
  {
   "cell_type": "code",
   "execution_count": 13,
   "metadata": {},
   "outputs": [],
   "source": [
    "def run_simulation20(state, system, init_pop):\n",
    "    #this function is for computing the final population at the end of the twenty years\n",
    "    for i in linrange(1,20,1): #Can we not hardcode this?\n",
    "        \n",
    "        if i == 1:\n",
    "            state.pop_20 = run_simulation1(state, system, init_pop) \n",
    "        if i >= 2:\n",
    "            state.pop_20 = run_simulation2_20(state, system)\n",
    "    \n",
    "    return state.pop_20\n",
    "\n",
    "\n",
    "\n",
    "    "
   ]
  },
  {
   "cell_type": "markdown",
   "metadata": {},
   "source": [
    "This stores the final population at the end of a 20 year simulation in a variable called final:"
   ]
  },
  {
   "cell_type": "code",
   "execution_count": 14,
   "metadata": {},
   "outputs": [
    {
     "data": {
      "text/plain": [
       "205"
      ]
     },
     "execution_count": 14,
     "metadata": {},
     "output_type": "execute_result"
    }
   ],
   "source": [
    "final = run_simulation20(state, system, init_pop)"
   ]
  },
  {
   "cell_type": "markdown",
   "metadata": {},
   "source": [
    "As `run_many_times` suggests, the stochastic simulation will be run many (100) times to generate a time series of data. A probability is calculated from the number of times the population meets or exceeds the MVPa threshold. "
   ]
  },
  {
   "cell_type": "code",
   "execution_count": 19,
   "metadata": {},
   "outputs": [
    {
     "name": "stdout",
     "output_type": "stream",
     "text": [
      "0\n"
     ]
    }
   ],
   "source": [
    "record = TimeSeries()\n",
    "def run_many_times(state, system, record):\n",
    "    for i in range(100):\n",
    "        record[i] = run_simulation20(state, system, init_pop)\n",
    "    \n",
    "    state.succ = 0\n",
    "    \n",
    "    for i in range(100):\n",
    "        if record[i] >= state.mvpa:\n",
    "            state.succ += 1\n",
    "    \n",
    "    state.p_succ = state.succ / 100\n",
    "    return state.p_succ\n",
    "            \n",
    "state.p_succ = run_many_times(state, system, record)\n",
    "print(state.p_succ)\n"
   ]
  },
  {
   "cell_type": "markdown",
   "metadata": {},
   "source": [
    "Finally, we sweep the starting population size to see how likely a given population size of the whooping crane is to meet the MVPa threshold. "
   ]
  },
  {
   "cell_type": "code",
   "execution_count": 20,
   "metadata": {},
   "outputs": [
    {
     "ename": "AttributeError",
     "evalue": "'numpy.int64' object has no attribute 'p_succ'",
     "output_type": "error",
     "traceback": [
      "\u001b[1;31m---------------------------------------------------------------------------\u001b[0m",
      "\u001b[1;31mAttributeError\u001b[0m                            Traceback (most recent call last)",
      "\u001b[1;32m<ipython-input-20-05b36806ad12>\u001b[0m in \u001b[0;36m<module>\u001b[1;34m()\u001b[0m\n\u001b[0;32m      5\u001b[0m \u001b[1;32mfor\u001b[0m \u001b[0minit_pop\u001b[0m \u001b[1;32min\u001b[0m \u001b[0minit_pop_array\u001b[0m\u001b[1;33m:\u001b[0m\u001b[1;33m\u001b[0m\u001b[0m\n\u001b[0;32m      6\u001b[0m     \u001b[0mstate\u001b[0m \u001b[1;33m=\u001b[0m \u001b[0mrun_many_times\u001b[0m\u001b[1;33m(\u001b[0m\u001b[0mstate\u001b[0m\u001b[1;33m,\u001b[0m \u001b[0msystem\u001b[0m\u001b[1;33m,\u001b[0m \u001b[0mrecord\u001b[0m\u001b[1;33m)\u001b[0m\u001b[1;33m\u001b[0m\u001b[0m\n\u001b[1;32m----> 7\u001b[1;33m     \u001b[0mfinal_results\u001b[0m\u001b[1;33m[\u001b[0m\u001b[0minit_pop\u001b[0m\u001b[1;33m]\u001b[0m \u001b[1;33m=\u001b[0m \u001b[0mstate\u001b[0m\u001b[1;33m.\u001b[0m\u001b[0mp_succ\u001b[0m\u001b[1;33m\u001b[0m\u001b[0m\n\u001b[0m",
      "\u001b[1;31mAttributeError\u001b[0m: 'numpy.int64' object has no attribute 'p_succ'"
     ]
    }
   ],
   "source": [
    "init_pop_array = linrange(100, 1050, 50)\n",
    "\n",
    "final_results = SweepSeries()\n",
    "\n",
    "for init_pop in init_pop_array:\n",
    "    state = run_many_times(state, system, record)\n",
    "    final_results[init_pop] = state.p_succ"
   ]
  },
  {
   "cell_type": "markdown",
   "metadata": {},
   "source": [
    "Here, we graph the results (probability of success vs. starting population) and highlight the probability for the known population of the whooping crane."
   ]
  },
  {
   "cell_type": "code",
   "execution_count": null,
   "metadata": {},
   "outputs": [],
   "source": [
    "#tbd"
   ]
  },
  {
   "cell_type": "markdown",
   "metadata": {},
   "source": [
    "Finally, `pray`:"
   ]
  },
  {
   "cell_type": "code",
   "execution_count": null,
   "metadata": {},
   "outputs": [],
   "source": [
    "def pray(God, conviction):\n",
    "    if flip (conviction):\n",
    "        if God == pleased_with_work:\n",
    "            print('Godspeed')\n",
    "        else:\n",
    "            print('RIP')\n",
    "    return ultimatum\n",
    "\n",
    "pray(God, conviction)"
   ]
  },
  {
   "cell_type": "markdown",
   "metadata": {},
   "source": [
    "https://www.esasuccess.org/2016/index.html\n",
    "http://www.wec.ufl.edu/academics/courses/wis4554/WebUpdate/ReadingsWIS5555/PVA/Reed%20et%20al%20PVA%20estimates%202003BiolCons113_23.pdf\n",
    "    "
   ]
  },
  {
   "cell_type": "code",
   "execution_count": null,
   "metadata": {},
   "outputs": [],
   "source": []
  }
 ],
 "metadata": {
  "kernelspec": {
   "display_name": "Python 3",
   "language": "python",
   "name": "python3"
  },
  "language_info": {
   "codemirror_mode": {
    "name": "ipython",
    "version": 3
   },
   "file_extension": ".py",
   "mimetype": "text/x-python",
   "name": "python",
   "nbconvert_exporter": "python",
   "pygments_lexer": "ipython3",
   "version": "3.6.6"
  }
 },
 "nbformat": 4,
 "nbformat_minor": 2
}
