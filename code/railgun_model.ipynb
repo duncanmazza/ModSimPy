{
 "cells": [
  {
   "cell_type": "markdown",
   "metadata": {},
   "source": [
    "# Railgun Model"
   ]
  },
  {
   "cell_type": "markdown",
   "metadata": {},
   "source": [
    "Thomas Jagielski and Duncan  Mazza"
   ]
  },
  {
   "cell_type": "code",
   "execution_count": 1,
   "metadata": {},
   "outputs": [],
   "source": [
    "# Configure Jupyter so figures appear in the notebook\n",
    "%matplotlib inline\n",
    "\n",
    "# Configure Jupyter to display the assigned value after an assignment\n",
    "%config InteractiveShell.ast_node_interactivity='last_expr_or_assign'\n",
    "\n",
    "# import functions from the modsim.py module\n",
    "from modsim import *\n",
    "\n",
    "import math"
   ]
  },
  {
   "cell_type": "markdown",
   "metadata": {},
   "source": [
    "Assumptions:\n",
    "- Constant lorentz force, which is dependent on:    \n",
    "\n",
    "    - Constant current\n",
    "    \n",
    "    - The rails are made of iron (magnetic)\n",
    "    \n",
    "    - Rails are separated enough (by length w) relative to their diameter\n",
    "    \n",
    "    - Rails are long enough relative to their separation (w) so they can be treated by the equations as rails of infinite length.\n",
    "    \n",
    "    - Armature is made of copper (conductive)\n",
    "    \n",
    "    - Rails are cylindrical and wire-like (small diameter)\n",
    "    \n",
    "    - Uniform current density\n",
    "    \n",
    "    - Thin armature\n",
    "    \n",
    "    - Constant mu\n",
    "    \n",
    "    - No energy loss to magnetization\n",
    "    \n",
    "    - No energy lost to eddy currents\n",
    "    \n",
    "- Coefficient of drag for armature is constant and is 2\n",
    "\n",
    "- Flow speed around armature equals the armatures velocity\n",
    "\n"
   ]
  },
  {
   "cell_type": "code",
   "execution_count": 2,
   "metadata": {},
   "outputs": [],
   "source": [
    "num_sweeps = 15\n",
    "angle_elevation = Params(angle_elevation = pi / 4);"
   ]
  },
  {
   "cell_type": "code",
   "execution_count": 3,
   "metadata": {},
   "outputs": [
    {
     "data": {
      "text/plain": [
       "''"
      ]
     },
     "execution_count": 3,
     "metadata": {},
     "output_type": "execute_result"
    }
   ],
   "source": [
    "params = Params(mass_proj = 0.145, #kg\n",
    "                #mass_proj = 50, #kg\n",
    "                rail_r = 0.01, #m\n",
    "                rail_l = 3, #m\n",
    "                arm_w = 0.9, #m in x axis\n",
    "                arm_l = 0.01, #m in y axis\n",
    "                arm_d = 0.02, #m in z axis\n",
    "                w = 0.1, #m\n",
    "                # mu = 1150, #T  \n",
    "                mu = 10, \n",
    "                rho_cu = 8960, #g/m^3\n",
    "                v_init = 0, #m/s\n",
    "                y_init = 0, #m\n",
    "                t_end = 1000,\n",
    "                coef_fric = 0.36, #dimensionless, kinetic friction\n",
    "                g = 9.8, #m/s*s\n",
    "                angle_elevation = angle_elevation.angle_elevation, #radians; being swept\n",
    "                cd = 2, # approximate drag coefficient of a rectangular box \n",
    "                rho_air = 1.225, # kg/m^3\n",
    "                current = 1000 # amperes\n",
    "               )\n",
    ";"
   ]
  },
  {
   "cell_type": "code",
   "execution_count": 4,
   "metadata": {},
   "outputs": [],
   "source": [
    "def make_system(params):\n",
    "    \"\"\"Make a system object.\n",
    "    \n",
    "    params: \n",
    "    \n",
    "    returns: System object\n",
    "    \"\"\"\n",
    "\n",
    "    unpack(params)\n",
    "    \n",
    "    mass_arm = (arm_w * arm_l * arm_d) * rho_cu\n",
    "\n",
    "    # If coordinate system moves with the rails, then...\n",
    "    # Unit vector in direction of rails:\n",
    "    # rail_direc = Vector(0,1,0)\n",
    "    # normal_rail = Vector(0,0,1)\n",
    "    \n",
    "    lorentz_force = ((mu * current**2)/(2 * np.pi)) * (math.log((rail_r + w) / rail_r))\n",
    "    B = ((mu * current)/(2 * np.pi * w)) * (math.log((rail_r + w) / rail_r))\n",
    "    arm_friction = coef_fric * (g * mass_arm * math.cos(angle_elevation))\n",
    "    gravity_y_direc = g * mass_arm * math.sin(angle_elevation)\n",
    "    front_area = arm_w * arm_d #m^2 frontal areaa of the armature \n",
    "    \n",
    "    init = State(v=v_init, y=y_init)\n",
    "    \n",
    "    return System(params, lorentz_force=lorentz_force, mass_arm = mass_arm, B = B, arm_friction = arm_friction, \n",
    "                  gravity_y_direc = gravity_y_direc, front_area = front_area, init=init)"
   ]
  },
  {
   "cell_type": "code",
   "execution_count": 5,
   "metadata": {},
   "outputs": [],
   "source": [
    "system = make_system(params);"
   ]
  },
  {
   "cell_type": "code",
   "execution_count": 6,
   "metadata": {},
   "outputs": [],
   "source": [
    "def slope_func(state, t, system):\n",
    "    \n",
    "    unpack(system)\n",
    "    v, y = state\n",
    "    \n",
    "    emf = B * v * w \n",
    "    # The u of the drag force equation will be set equal to velocity (v)\n",
    "    air_resistance = 0.5 * rho_air * (v**2) * cd * front_area\n",
    "    \n",
    "    dvdt = (lorentz_force - emf - arm_friction - gravity_y_direc - air_resistance) / (mass_proj + mass_arm)\n",
    "    dydt = v\n",
    "        \n",
    "    return dvdt, dydt"
   ]
  },
  {
   "cell_type": "code",
   "execution_count": 7,
   "metadata": {},
   "outputs": [
    {
     "data": {
      "text/plain": [
       "(2171096.6306084436, 0.0)"
      ]
     },
     "execution_count": 7,
     "metadata": {},
     "output_type": "execute_result"
    }
   ],
   "source": [
    "slope_func(system.init, 0, system)"
   ]
  },
  {
   "cell_type": "code",
   "execution_count": 8,
   "metadata": {},
   "outputs": [],
   "source": [
    "def event_func(state, t, system):\n",
    "    v, y = state\n",
    "    return system.rail_l - y"
   ]
  },
  {
   "cell_type": "code",
   "execution_count": 9,
   "metadata": {},
   "outputs": [
    {
     "data": {
      "text/html": [
       "<div>\n",
       "<style scoped>\n",
       "    .dataframe tbody tr th:only-of-type {\n",
       "        vertical-align: middle;\n",
       "    }\n",
       "\n",
       "    .dataframe tbody tr th {\n",
       "        vertical-align: top;\n",
       "    }\n",
       "\n",
       "    .dataframe thead th {\n",
       "        text-align: right;\n",
       "    }\n",
       "</style>\n",
       "<table border=\"1\" class=\"dataframe\">\n",
       "  <thead>\n",
       "    <tr style=\"text-align: right;\">\n",
       "      <th></th>\n",
       "      <th>values</th>\n",
       "    </tr>\n",
       "  </thead>\n",
       "  <tbody>\n",
       "    <tr>\n",
       "      <th>sol</th>\n",
       "      <td>None</td>\n",
       "    </tr>\n",
       "    <tr>\n",
       "      <th>t_events</th>\n",
       "      <td>[[0.0034736844511860676]]</td>\n",
       "    </tr>\n",
       "    <tr>\n",
       "      <th>nfev</th>\n",
       "      <td>2090</td>\n",
       "    </tr>\n",
       "    <tr>\n",
       "      <th>njev</th>\n",
       "      <td>0</td>\n",
       "    </tr>\n",
       "    <tr>\n",
       "      <th>nlu</th>\n",
       "      <td>0</td>\n",
       "    </tr>\n",
       "    <tr>\n",
       "      <th>status</th>\n",
       "      <td>1</td>\n",
       "    </tr>\n",
       "    <tr>\n",
       "      <th>message</th>\n",
       "      <td>A termination event occurred.</td>\n",
       "    </tr>\n",
       "    <tr>\n",
       "      <th>success</th>\n",
       "      <td>True</td>\n",
       "    </tr>\n",
       "  </tbody>\n",
       "</table>\n",
       "</div>"
      ],
      "text/plain": [
       "sol                                  None\n",
       "t_events        [[0.0034736844511860676]]\n",
       "nfev                                 2090\n",
       "njev                                    0\n",
       "nlu                                     0\n",
       "status                                  1\n",
       "message     A termination event occurred.\n",
       "success                              True\n",
       "dtype: object"
      ]
     },
     "execution_count": 9,
     "metadata": {},
     "output_type": "execute_result"
    }
   ],
   "source": [
    "results, details = run_ode_solver(system, slope_func, events = event_func, max_step=0.00001)\n",
    "details"
   ]
  },
  {
   "cell_type": "code",
   "execution_count": 10,
   "metadata": {},
   "outputs": [],
   "source": [
    "results;"
   ]
  },
  {
   "cell_type": "code",
   "execution_count": 11,
   "metadata": {},
   "outputs": [
    {
     "data": {
      "image/png": "[encoded data removed]",
      "text/plain": [
       "<Figure size 432x288 with 1 Axes>"
      ]
     },
     "metadata": {},
     "output_type": "display_data"
    }
   ],
   "source": [
    "plot(results.v)\n",
    "\n",
    "decorate(xlabel='Time (s)',\n",
    "         ylabel='Velocity (m/s)',\n",
    "         title='Velocity of Armature as a Function of Time',\n",
    "         legend=False)"
   ]
  },
  {
   "cell_type": "markdown",
   "metadata": {},
   "source": [
    "### Projectile Motion "
   ]
  },
  {
   "cell_type": "markdown",
   "metadata": {},
   "source": [
    "Assumptions:\n",
    "- The projectile is a baseball and follows the drag coefficient curve given by `data/baseball_drag.csv`\n",
    "- No wind in any direction\n",
    "- No angular velocity of the baseball"
   ]
  },
  {
   "cell_type": "code",
   "execution_count": 12,
   "metadata": {},
   "outputs": [
    {
     "data": {
      "text/plain": [
       "''"
      ]
     },
     "execution_count": 12,
     "metadata": {},
     "output_type": "execute_result"
    }
   ],
   "source": [
    "params_proj = Params(x = 0, #m \n",
    "                     g = 9.8, #m/s^2\n",
    "                     mass = 145e-3, #kg\n",
    "                     diameter = 73e-3, #m\n",
    "                     rho = 1.2, #kg/m^3\n",
    "                     C_d = 0.33,\n",
    "                     angle = params.angle_elevation, #radians\n",
    "                     velocity = get_last_value(results.v), #m / s\n",
    "                     t_end = 200, #s\n",
    "                     target_x = 320, #m\n",
    "                     target_y = 0, #m\n",
    "                     target_radius = 0.5 #m\n",
    "                     )\n",
    ";"
   ]
  },
  {
   "cell_type": "code",
   "execution_count": 31,
   "metadata": {},
   "outputs": [],
   "source": [
    "def make_system_proj(params, params1):\n",
    "    \"\"\"Make a system object.\n",
    "    \n",
    "    params: Params object with angle, velocity, x, y,\n",
    "               diameter, duration, g, mass, rho, and C_d\n",
    "               \n",
    "    returns: System object\n",
    "    \"\"\"\n",
    "    unpack(params)\n",
    "    \n",
    "    # compute x and y components of velocity\n",
    "    vx, vy = pol2cart(params.angle, velocity)\n",
    "    \n",
    "    # compute area from diameter\n",
    "    area = np.pi * (diameter/2)**2\n",
    "    \n",
    "    # define y\n",
    "    y = math.sin(params.angle) * system.rail_l #m\n",
    "    \n",
    "    # make the initial state\n",
    "    init = State(x=x, y=y, vx=vx, vy=vy)\n",
    "    \n",
    "    return System(params, init=init, area=area, y=y)"
   ]
  },
  {
   "cell_type": "code",
   "execution_count": 32,
   "metadata": {},
   "outputs": [
    {
     "data": {
      "text/html": [
       "<div>\n",
       "<style scoped>\n",
       "    .dataframe tbody tr th:only-of-type {\n",
       "        vertical-align: middle;\n",
       "    }\n",
       "\n",
       "    .dataframe tbody tr th {\n",
       "        vertical-align: top;\n",
       "    }\n",
       "\n",
       "    .dataframe thead th {\n",
       "        text-align: right;\n",
       "    }\n",
       "</style>\n",
       "<table border=\"1\" class=\"dataframe\">\n",
       "  <thead>\n",
       "    <tr style=\"text-align: right;\">\n",
       "      <th></th>\n",
       "      <th>values</th>\n",
       "    </tr>\n",
       "  </thead>\n",
       "  <tbody>\n",
       "    <tr>\n",
       "      <th>x</th>\n",
       "      <td>0</td>\n",
       "    </tr>\n",
       "    <tr>\n",
       "      <th>g</th>\n",
       "      <td>9.8</td>\n",
       "    </tr>\n",
       "    <tr>\n",
       "      <th>mass</th>\n",
       "      <td>0.145</td>\n",
       "    </tr>\n",
       "    <tr>\n",
       "      <th>diameter</th>\n",
       "      <td>0.073</td>\n",
       "    </tr>\n",
       "    <tr>\n",
       "      <th>rho</th>\n",
       "      <td>1.2</td>\n",
       "    </tr>\n",
       "    <tr>\n",
       "      <th>C_d</th>\n",
       "      <td>0.33</td>\n",
       "    </tr>\n",
       "    <tr>\n",
       "      <th>angle</th>\n",
       "      <td>0.785398</td>\n",
       "    </tr>\n",
       "    <tr>\n",
       "      <th>velocity</th>\n",
       "      <td>993.798</td>\n",
       "    </tr>\n",
       "    <tr>\n",
       "      <th>t_end</th>\n",
       "      <td>200</td>\n",
       "    </tr>\n",
       "    <tr>\n",
       "      <th>target_x</th>\n",
       "      <td>320</td>\n",
       "    </tr>\n",
       "    <tr>\n",
       "      <th>target_y</th>\n",
       "      <td>0</td>\n",
       "    </tr>\n",
       "    <tr>\n",
       "      <th>target_radius</th>\n",
       "      <td>0.5</td>\n",
       "    </tr>\n",
       "    <tr>\n",
       "      <th>init</th>\n",
       "      <td>x       0.000000\n",
       "y       2.121320\n",
       "vx    702.72...</td>\n",
       "    </tr>\n",
       "    <tr>\n",
       "      <th>area</th>\n",
       "      <td>0.00418539</td>\n",
       "    </tr>\n",
       "    <tr>\n",
       "      <th>y</th>\n",
       "      <td>2.12132</td>\n",
       "    </tr>\n",
       "  </tbody>\n",
       "</table>\n",
       "</div>"
      ],
      "text/plain": [
       "x                                                                0\n",
       "g                                                              9.8\n",
       "mass                                                         0.145\n",
       "diameter                                                     0.073\n",
       "rho                                                            1.2\n",
       "C_d                                                           0.33\n",
       "angle                                                     0.785398\n",
       "velocity                                                   993.798\n",
       "t_end                                                          200\n",
       "target_x                                                       320\n",
       "target_y                                                         0\n",
       "target_radius                                                  0.5\n",
       "init             x       0.000000\n",
       "y       2.121320\n",
       "vx    702.72...\n",
       "area                                                    0.00418539\n",
       "y                                                          2.12132\n",
       "dtype: object"
      ]
     },
     "execution_count": 32,
     "metadata": {},
     "output_type": "execute_result"
    }
   ],
   "source": [
    "system_proj = make_system_proj(params_proj, params)"
   ]
  },
  {
   "cell_type": "code",
   "execution_count": 33,
   "metadata": {},
   "outputs": [],
   "source": [
    "m = UNITS.meter\n",
    "s = UNITS.second\n",
    "\n",
    "baseball_drag = pd.read_csv('data/baseball_drag.csv')\n",
    "baseball_drag.index = Quantity(baseball_drag['Velocity in mph'].values, UNITS.mph).to(m/s)\n",
    "baseball_drag;"
   ]
  },
  {
   "cell_type": "code",
   "execution_count": 34,
   "metadata": {},
   "outputs": [
    {
     "data": {
      "image/png": "[encoded data removed]",
      "text/plain": [
       "<Figure size 432x288 with 1 Axes>"
      ]
     },
     "metadata": {},
     "output_type": "display_data"
    }
   ],
   "source": [
    "drag_interp = interpolate(baseball_drag['Drag coefficient'])\n",
    "vs = linspace(0, 60, 101)\n",
    "cds = drag_interp(vs)\n",
    "plot(vs, cds)\n",
    "decorate(xlabel = 'Velocity (m/s)', ylabel = 'C_d')"
   ]
  },
  {
   "cell_type": "code",
   "execution_count": 35,
   "metadata": {},
   "outputs": [],
   "source": [
    "def drag_force(v, system):\n",
    "    \"\"\"finds drag force in the opposing direction to velocity\n",
    "    \n",
    "    v: velocity\n",
    "    system: System object with rho, C_d, area\n",
    "    \n",
    "    returns: Vector drag force\n",
    "    \"\"\"\n",
    "    \n",
    "    unpack(system)\n",
    "    C_d = drag_interp(v.mag)\n",
    "    mag = -rho * v.mag ** 2 * C_d * area / 2\n",
    "    direction = v.hat()\n",
    "    f_drag = direction * mag\n",
    "    return f_drag"
   ]
  },
  {
   "cell_type": "code",
   "execution_count": 36,
   "metadata": {},
   "outputs": [],
   "source": [
    "def slope_func_proj(state, t, system):\n",
    "    \"\"\"Computes derivatives of the state variables.\n",
    "    \n",
    "    state: State (x, y, x velocity, y velocity)\n",
    "    t: time\n",
    "    system: System object with g, rho, C_d, area, mass\n",
    "    \n",
    "    returns: sequence (vx, vy, ax, ay)\n",
    "    \"\"\"\n",
    "    x, y, vx, vy = state\n",
    "    unpack(system)\n",
    "\n",
    "    v = Vector(vx, vy)    \n",
    "    a_drag = drag_force(v, system) / mass\n",
    "    a_grav = Vector(0, -g)\n",
    "    \n",
    "    a = a_grav + a_drag\n",
    "    \n",
    "    return vx, vy, a.x, a.y"
   ]
  },
  {
   "cell_type": "code",
   "execution_count": 37,
   "metadata": {},
   "outputs": [
    {
     "data": {
      "text/plain": [
       "(702.721098455984,\n",
       " 702.721098455984,\n",
       " <Quantity(-9628.802796352897, 'dimensionless')>,\n",
       " <Quantity(-9638.602796352896, 'dimensionless')>)"
      ]
     },
     "execution_count": 37,
     "metadata": {},
     "output_type": "execute_result"
    }
   ],
   "source": [
    "slope_func_proj(system_proj.init, 0, system_proj)"
   ]
  },
  {
   "cell_type": "code",
   "execution_count": 38,
   "metadata": {},
   "outputs": [],
   "source": [
    "def event_func_proj(state, t, system):\n",
    "    \"\"\"Stop when the y coordinate is 0.\n",
    "    \n",
    "    state: State object\n",
    "    t: time\n",
    "    system: System object\n",
    "    \n",
    "    returns: y coordinate\n",
    "    \"\"\"\n",
    "    x, y, vx, vy = state\n",
    "    return y"
   ]
  },
  {
   "cell_type": "code",
   "execution_count": 39,
   "metadata": {},
   "outputs": [
    {
     "data": {
      "text/plain": [
       "2.121320343559643"
      ]
     },
     "execution_count": 39,
     "metadata": {},
     "output_type": "execute_result"
    }
   ],
   "source": [
    "event_func_proj(system_proj.init, 0, system_proj)"
   ]
  },
  {
   "cell_type": "code",
   "execution_count": 40,
   "metadata": {},
   "outputs": [
    {
     "data": {
      "text/html": [
       "<div>\n",
       "<style scoped>\n",
       "    .dataframe tbody tr th:only-of-type {\n",
       "        vertical-align: middle;\n",
       "    }\n",
       "\n",
       "    .dataframe tbody tr th {\n",
       "        vertical-align: top;\n",
       "    }\n",
       "\n",
       "    .dataframe thead th {\n",
       "        text-align: right;\n",
       "    }\n",
       "</style>\n",
       "<table border=\"1\" class=\"dataframe\">\n",
       "  <thead>\n",
       "    <tr style=\"text-align: right;\">\n",
       "      <th></th>\n",
       "      <th>values</th>\n",
       "    </tr>\n",
       "  </thead>\n",
       "  <tbody>\n",
       "    <tr>\n",
       "      <th>sol</th>\n",
       "      <td>None</td>\n",
       "    </tr>\n",
       "    <tr>\n",
       "      <th>t_events</th>\n",
       "      <td>[[15.87378873196279]]</td>\n",
       "    </tr>\n",
       "    <tr>\n",
       "      <th>nfev</th>\n",
       "      <td>1940</td>\n",
       "    </tr>\n",
       "    <tr>\n",
       "      <th>njev</th>\n",
       "      <td>0</td>\n",
       "    </tr>\n",
       "    <tr>\n",
       "      <th>nlu</th>\n",
       "      <td>0</td>\n",
       "    </tr>\n",
       "    <tr>\n",
       "      <th>status</th>\n",
       "      <td>1</td>\n",
       "    </tr>\n",
       "    <tr>\n",
       "      <th>message</th>\n",
       "      <td>A termination event occurred.</td>\n",
       "    </tr>\n",
       "    <tr>\n",
       "      <th>success</th>\n",
       "      <td>True</td>\n",
       "    </tr>\n",
       "  </tbody>\n",
       "</table>\n",
       "</div>"
      ],
      "text/plain": [
       "sol                                  None\n",
       "t_events            [[15.87378873196279]]\n",
       "nfev                                 1940\n",
       "njev                                    0\n",
       "nlu                                     0\n",
       "status                                  1\n",
       "message     A termination event occurred.\n",
       "success                              True\n",
       "dtype: object"
      ]
     },
     "execution_count": 40,
     "metadata": {},
     "output_type": "execute_result"
    }
   ],
   "source": [
    "system_proj = System(system_proj, drag_interp = drag_interp)\n",
    "results_proj, details_proj = run_ode_solver(system_proj, slope_func_proj, \n",
    "                                            events = event_func_proj, max_step=0.05)\n",
    "details_proj"
   ]
  },
  {
   "cell_type": "code",
   "execution_count": 41,
   "metadata": {},
   "outputs": [
    {
     "data": {
      "text/plain": [
       "<scipy.interpolate.interpolate.interp1d at 0x1da8de64f98>"
      ]
     },
     "execution_count": 41,
     "metadata": {},
     "output_type": "execute_result"
    }
   ],
   "source": [
    "results_proj_int_x = interpolate(results_proj.x)\n",
    "results_proj_int_y = interpolate(results_proj.y)"
   ]
  },
  {
   "cell_type": "code",
   "execution_count": 42,
   "metadata": {},
   "outputs": [],
   "source": [
    "results_proj;"
   ]
  },
  {
   "cell_type": "code",
   "execution_count": 45,
   "metadata": {},
   "outputs": [
    {
     "data": {
      "image/png": "[encoded data removed]",
      "text/plain": [
       "<Figure size 432x288 with 1 Axes>"
      ]
     },
     "metadata": {},
     "output_type": "display_data"
    }
   ],
   "source": [
    "plot(results_proj.x, results_proj.y)\n",
    "\n",
    "decorate(title='Trajectory Plot', \n",
    "         xlabel='x position (m)',\n",
    "         ylabel='y position (m)')"
   ]
  },
  {
   "cell_type": "code",
   "execution_count": 46,
   "metadata": {},
   "outputs": [],
   "source": [
    "def simulation(angle_elevation):\n",
    "    params_new = Params(params, angle_elevation = angle_elevation)\n",
    "    system = make_system(params_new)\n",
    "    results_sim, details_sim = run_ode_solver(system, slope_func, events = event_func, max_step = 0.00001)\n",
    "  \n",
    "    params_proj_new = Params(params_proj, angle = params_new.angle_elevation, velocity = get_last_value(results_sim.v))\n",
    "    system_proj = make_system_proj(params_proj_new, params_new)\n",
    "    results_proj, details_proj = run_ode_solver(system_proj, slope_func_proj, \n",
    "                                            events = event_func_proj, max_step=0.1)\n",
    "    return results_proj.x, results_proj.y"
   ]
  },
  {
   "cell_type": "code",
   "execution_count": 59,
   "metadata": {},
   "outputs": [
    {
     "data": {
      "image/png": "[encoded data removed]",
      "text/plain": [
       "<Figure size 432x288 with 1 Axes>"
      ]
     },
     "metadata": {},
     "output_type": "display_data"
    }
   ],
   "source": [
    "for i in range(0, num_sweeps): \n",
    "    angle_linspace = linspace(0.1, pi/2, num_sweeps)\n",
    "    params.angle_elevation = angle_linspace[i]\n",
    "    results_proj_x, results_proj_y = simulation(params.angle_elevation)\n",
    "    plot(results_proj_x, results_proj_y)\n",
    "\n",
    "decorate(title='Trajectory Plot', \n",
    "         xlabel='x position (m)',\n",
    "         ylabel='y position (m)',\n",
    "         )"
   ]
  },
  {
   "cell_type": "code",
   "execution_count": 67,
   "metadata": {},
   "outputs": [],
   "source": [
    "# Assuming that the projectile is on the ground (y = 0):\n",
    "def simulation_hitting_target(angle_elevation):\n",
    "    params_new = Params(params, angle_elevation = angle_elevation)\n",
    "    system = make_system(params_new)\n",
    "    results_sim, details_sim = run_ode_solver(system, slope_func, events = event_func, max_step = 0.00001)\n",
    "  \n",
    "    params_proj_new = Params(params_proj, angle = params_new.angle_elevation, velocity = get_last_value(results_sim.v))\n",
    "    system_proj = make_system_proj(params_proj_new, params_new)\n",
    "    results_proj, details_proj = run_ode_solver(system_proj, slope_func_proj, \n",
    "                                            events = event_func_proj, max_step=0.1)\n",
    "    return get_last_value(results_proj.x) - params_proj.target_x"
   ]
  },
  {
   "cell_type": "code",
   "execution_count": 68,
   "metadata": {},
   "outputs": [
    {
     "data": {
      "text/plain": [
       "array([1.12326571])"
      ]
     },
     "execution_count": 68,
     "metadata": {},
     "output_type": "execute_result"
    }
   ],
   "source": [
    "fsolve(simulation_hitting_target, x0 = 1.05)\n",
    "print('The angle from horizontal that will cause the projectile to hit the target is {} )"
   ]
  },
  {
   "cell_type": "code",
   "execution_count": 63,
   "metadata": {},
   "outputs": [
    {
     "data": {
      "text/plain": [
       "4.945890070133894e-14"
      ]
     },
     "execution_count": 63,
     "metadata": {},
     "output_type": "execute_result"
    }
   ],
   "source": [
    "simulation_hitting_target(1)"
   ]
  },
  {
   "cell_type": "markdown",
   "metadata": {},
   "source": [
    "### Sources\n",
    "\n",
    "- Source for coeff fric: http://www.engineershandbook.com/Tables/frictioncoefficients.htm\n",
    "\n",
    "- Source for drag coeff: https://www.engineeringtoolbox.com/drag-coefficient-d_627.html\n",
    "\n",
    "- Source for railgun physics: http://citeseerx.ist.psu.edu/viewdoc/download?rep=rep1&type=pdf&doi=10.1.1.205.7739\n",
    "\n",
    "- Source for air density: https://www.engineersedge.com/calculators/air-density.htm\n"
   ]
  },
  {
   "cell_type": "code",
   "execution_count": 55,
   "metadata": {},
   "outputs": [
    {
     "data": {
      "text/plain": [
       "320.0"
      ]
     },
     "execution_count": 55,
     "metadata": {},
     "output_type": "execute_result"
    }
   ],
   "source": [
    "params_proj.target_x"
   ]
  },
  {
   "cell_type": "code",
   "execution_count": null,
   "metadata": {},
   "outputs": [],
   "source": []
  }
 ],
 "metadata": {
  "kernelspec": {
   "display_name": "Python 3",
   "language": "python",
   "name": "python3"
  },
  "language_info": {
   "codemirror_mode": {
    "name": "ipython",
    "version": 3
   },
   "file_extension": ".py",
   "mimetype": "text/x-python",
   "name": "python",
   "nbconvert_exporter": "python",
   "pygments_lexer": "ipython3",
   "version": "3.6.6"
  }
 },
 "nbformat": 4,
 "nbformat_minor": 2
}
