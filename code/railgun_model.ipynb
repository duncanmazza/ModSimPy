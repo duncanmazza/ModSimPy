{
 "cells": [
  {
   "cell_type": "markdown",
   "metadata": {},
   "source": [
    "# Railgun Model"
   ]
  },
  {
   "cell_type": "markdown",
   "metadata": {},
   "source": [
    "Thomas Jagielski and Duncan  Mazza"
   ]
  },
  {
   "cell_type": "code",
   "execution_count": 1,
   "metadata": {},
   "outputs": [],
   "source": [
    "# Configure Jupyter so figures appear in the notebook\n",
    "%matplotlib inline\n",
    "\n",
    "# Configure Jupyter to display the assigned value after an assignment\n",
    "%config InteractiveShell.ast_node_interactivity='last_expr_or_assign'\n",
    "\n",
    "# import functions from the modsim.py module\n",
    "from modsim import *\n",
    "\n",
    "import math"
   ]
  },
  {
   "cell_type": "markdown",
   "metadata": {},
   "source": [
    "Assumptions:\n",
    "\n",
    "    - Constant Current\n",
    "    - Constant Force\n",
    "    - The rails are made of iron\n",
    "    - Projectile is a baseball\n",
    "   \n"
   ]
  },
  {
   "cell_type": "code",
   "execution_count": 2,
   "metadata": {},
   "outputs": [
    {
     "data": {
      "text/html": [
       "<div>\n",
       "<style scoped>\n",
       "    .dataframe tbody tr th:only-of-type {\n",
       "        vertical-align: middle;\n",
       "    }\n",
       "\n",
       "    .dataframe tbody tr th {\n",
       "        vertical-align: top;\n",
       "    }\n",
       "\n",
       "    .dataframe thead th {\n",
       "        text-align: right;\n",
       "    }\n",
       "</style>\n",
       "<table border=\"1\" class=\"dataframe\">\n",
       "  <thead>\n",
       "    <tr style=\"text-align: right;\">\n",
       "      <th></th>\n",
       "      <th>values</th>\n",
       "    </tr>\n",
       "  </thead>\n",
       "  <tbody>\n",
       "    <tr>\n",
       "      <th>angle_elevation</th>\n",
       "      <td>0.785398</td>\n",
       "    </tr>\n",
       "  </tbody>\n",
       "</table>\n",
       "</div>"
      ],
      "text/plain": [
       "angle_elevation    0.785398\n",
       "dtype: float64"
      ]
     },
     "execution_count": 2,
     "metadata": {},
     "output_type": "execute_result"
    }
   ],
   "source": [
    "num_sweeps = 15\n",
    "angle_elevation = Params(angle_elevation = pi / 4)"
   ]
  },
  {
   "cell_type": "code",
   "execution_count": 3,
   "metadata": {},
   "outputs": [
    {
     "data": {
      "text/plain": [
       "''"
      ]
     },
     "execution_count": 3,
     "metadata": {},
     "output_type": "execute_result"
    }
   ],
   "source": [
    "params = Params(mass_proj = 0.145, #kg\n",
    "                #mass_proj = 50, #kg\n",
    "                rail_r = 0.01, #m\n",
    "                rail_l = 3, #m\n",
    "                arm_w = 0.9, #m\n",
    "                arm_l = 0.01, #m\n",
    "                arm_d = 0.02, #m\n",
    "                w = 0.1, #m\n",
    "                #mu = 1150, #T  \n",
    "                mu = 10, \n",
    "                rho_cu = 8960, #g/m^3\n",
    "                v_init = 0, #m/s\n",
    "                y_init = 0, #m\n",
    "                t_end = 1000,\n",
    "                coef_fric = 0.36, #dimensionless, kinetic friction\n",
    "                g = 9.8, #m/s*s\n",
    "                angle_elevation = angle_elevation.angle_elevation #radians; being swept\n",
    "               )\n",
    ";"
   ]
  },
  {
   "cell_type": "code",
   "execution_count": 4,
   "metadata": {},
   "outputs": [],
   "source": [
    "def make_system(params):\n",
    "    \"\"\"Make a system object.\n",
    "    \n",
    "    params: \n",
    "    \n",
    "    returns: System object\n",
    "    \"\"\"\n",
    "\n",
    "    unpack(params)\n",
    "    \n",
    "    mass_arm = (arm_w * arm_l * arm_d) * rho_cu\n",
    "    current = 200\n",
    "    # If coordinate system moves with the rails, then...\n",
    "    # Unit vector in direction of rails:\n",
    "    # rail_direc = Vector(0,1,0)\n",
    "    # normal_rail = Vector(0,0,1)\n",
    "    \n",
    "    lorentz_force = ((mu * current**2)/(2 * np.pi)) * (math.log((rail_r + w) / rail_r))\n",
    "    B = ((mu * current)/(2 * np.pi * w)) * (math.log((rail_r + w) / rail_r))\n",
    "    arm_friction = coef_fric * (g * mass_arm * math.cos(angle_elevation))\n",
    "    gravity_y_direc = g * mass_arm * math.sin(angle_elevation)\n",
    "    \n",
    "    init = State(v=v_init, y=y_init)\n",
    "    \n",
    "    return System(params, lorentz_force=lorentz_force, mass_arm = mass_arm, B = B, arm_friction = arm_friction, \n",
    "                  gravity_y_direc = gravity_y_direc, init=init)"
   ]
  },
  {
   "cell_type": "code",
   "execution_count": 5,
   "metadata": {},
   "outputs": [],
   "source": [
    "system = make_system(params);"
   ]
  },
  {
   "cell_type": "code",
   "execution_count": 6,
   "metadata": {},
   "outputs": [],
   "source": [
    "def slope_func(state, t, system):\n",
    "    \n",
    "    unpack(system)\n",
    "    v, y = state\n",
    "    \n",
    "    emf = B * v * w \n",
    "    # air_resis = \n",
    "    \n",
    "    dvdt = (lorentz_force - emf - arm_friction - gravity_y_direc) / (mass_proj + mass_arm)\n",
    "    dydt = v\n",
    "        \n",
    "    return dvdt, dydt"
   ]
  },
  {
   "cell_type": "code",
   "execution_count": 7,
   "metadata": {},
   "outputs": [
    {
     "data": {
      "text/plain": [
       "(86835.56418878534, 0.0)"
      ]
     },
     "execution_count": 7,
     "metadata": {},
     "output_type": "execute_result"
    }
   ],
   "source": [
    "slope_func(system.init, 0, system)"
   ]
  },
  {
   "cell_type": "code",
   "execution_count": 8,
   "metadata": {},
   "outputs": [],
   "source": [
    "def event_func(state, t, system):\n",
    "    v, y = state\n",
    "    return system.rail_l - y"
   ]
  },
  {
   "cell_type": "code",
   "execution_count": 9,
   "metadata": {},
   "outputs": [
    {
     "data": {
      "text/html": [
       "<div>\n",
       "<style scoped>\n",
       "    .dataframe tbody tr th:only-of-type {\n",
       "        vertical-align: middle;\n",
       "    }\n",
       "\n",
       "    .dataframe tbody tr th {\n",
       "        vertical-align: top;\n",
       "    }\n",
       "\n",
       "    .dataframe thead th {\n",
       "        text-align: right;\n",
       "    }\n",
       "</style>\n",
       "<table border=\"1\" class=\"dataframe\">\n",
       "  <thead>\n",
       "    <tr style=\"text-align: right;\">\n",
       "      <th></th>\n",
       "      <th>values</th>\n",
       "    </tr>\n",
       "  </thead>\n",
       "  <tbody>\n",
       "    <tr>\n",
       "      <th>sol</th>\n",
       "      <td>None</td>\n",
       "    </tr>\n",
       "    <tr>\n",
       "      <th>t_events</th>\n",
       "      <td>[[0.017303211366735575]]</td>\n",
       "    </tr>\n",
       "    <tr>\n",
       "      <th>nfev</th>\n",
       "      <td>10388</td>\n",
       "    </tr>\n",
       "    <tr>\n",
       "      <th>njev</th>\n",
       "      <td>0</td>\n",
       "    </tr>\n",
       "    <tr>\n",
       "      <th>nlu</th>\n",
       "      <td>0</td>\n",
       "    </tr>\n",
       "    <tr>\n",
       "      <th>status</th>\n",
       "      <td>1</td>\n",
       "    </tr>\n",
       "    <tr>\n",
       "      <th>message</th>\n",
       "      <td>A termination event occurred.</td>\n",
       "    </tr>\n",
       "    <tr>\n",
       "      <th>success</th>\n",
       "      <td>True</td>\n",
       "    </tr>\n",
       "  </tbody>\n",
       "</table>\n",
       "</div>"
      ],
      "text/plain": [
       "sol                                  None\n",
       "t_events         [[0.017303211366735575]]\n",
       "nfev                                10388\n",
       "njev                                    0\n",
       "nlu                                     0\n",
       "status                                  1\n",
       "message     A termination event occurred.\n",
       "success                              True\n",
       "dtype: object"
      ]
     },
     "execution_count": 9,
     "metadata": {},
     "output_type": "execute_result"
    }
   ],
   "source": [
    "results, details = run_ode_solver(system, slope_func, events = event_func, max_step=0.00001)\n",
    "details"
   ]
  },
  {
   "cell_type": "code",
   "execution_count": 10,
   "metadata": {},
   "outputs": [],
   "source": [
    "results;"
   ]
  },
  {
   "cell_type": "code",
   "execution_count": 11,
   "metadata": {},
   "outputs": [
    {
     "data": {
      "image/png": "[encoded data removed]",
      "text/plain": [
       "<Figure size 432x288 with 1 Axes>"
      ]
     },
     "metadata": {},
     "output_type": "display_data"
    }
   ],
   "source": [
    "plot(results.v)\n",
    "\n",
    "decorate(xlabel='Time (s)',\n",
    "         ylabel='Velocity (m/s)',\n",
    "         title='Velocity as a function of time',\n",
    "         legend=False)"
   ]
  },
  {
   "cell_type": "markdown",
   "metadata": {},
   "source": [
    "### Projectile Motion "
   ]
  },
  {
   "cell_type": "markdown",
   "metadata": {},
   "source": [
    "Assumptions:\n",
    "\n",
    "    -The projectile is a baseball"
   ]
  },
  {
   "cell_type": "code",
   "execution_count": 12,
   "metadata": {},
   "outputs": [
    {
     "data": {
      "text/plain": [
       "''"
      ]
     },
     "execution_count": 12,
     "metadata": {},
     "output_type": "execute_result"
    }
   ],
   "source": [
    "params_proj = Params(x = 0, #m \n",
    "                     g = 9.8, #m/s^2\n",
    "                     mass = 145e-3, #kg\n",
    "                     diameter = 73e-3, #m\n",
    "                     rho = 1.2, #kg/m^3\n",
    "                     C_d = 0.33,\n",
    "                     angle = params.angle_elevation, #radians\n",
    "                     velocity = get_last_value(results.v), #m / s\n",
    "                     t_end = 200, #s\n",
    "                     target_x = 200, #m\n",
    "                     target_y = 100, #m\n",
    "                     target_radius = 0.5 #m\n",
    "                     )\n",
    ";"
   ]
  },
  {
   "cell_type": "code",
   "execution_count": 13,
   "metadata": {},
   "outputs": [],
   "source": [
    "def make_system_proj(params, params1):\n",
    "    \"\"\"Make a system object.\n",
    "    \n",
    "    params: Params object with angle, velocity, x, y,\n",
    "               diameter, duration, g, mass, rho, and C_d\n",
    "               \n",
    "    returns: System object\n",
    "    \"\"\"\n",
    "    unpack(params)\n",
    "    \n",
    "    # convert angle to degrees\n",
    "    theta = np.deg2rad(angle)\n",
    "    \n",
    "    # compute x and y components of velocity\n",
    "    vx, vy = pol2cart(theta, velocity)\n",
    "    \n",
    "    # compute area from diameter\n",
    "    area = np.pi * (diameter/2)**2\n",
    "    \n",
    "    # define y\n",
    "    y = math.sin(angle_elevation) * params1.rail_l #m\n",
    "    \n",
    "    # make the initial state\n",
    "    init = State(x=x, y=y, vx=vx, vy=vy)\n",
    "    \n",
    "    return System(params, init=init, area=area, y=y)"
   ]
  },
  {
   "cell_type": "code",
   "execution_count": 14,
   "metadata": {},
   "outputs": [],
   "source": [
    "system_proj = make_system_proj(params_proj, params);"
   ]
  },
  {
   "cell_type": "code",
   "execution_count": 15,
   "metadata": {},
   "outputs": [],
   "source": [
    "m = UNITS.meter\n",
    "s = UNITS.second\n",
    "\n",
    "baseball_drag = pd.read_csv('data/baseball_drag.csv')\n",
    "baseball_drag.index = Quantity(baseball_drag['Velocity in mph'].values, UNITS.mph).to(m/s)\n",
    "baseball_drag;"
   ]
  },
  {
   "cell_type": "code",
   "execution_count": 16,
   "metadata": {},
   "outputs": [
    {
     "data": {
      "image/png": "[encoded data removed]",
      "text/plain": [
       "<Figure size 432x288 with 1 Axes>"
      ]
     },
     "metadata": {},
     "output_type": "display_data"
    }
   ],
   "source": [
    "drag_interp = interpolate(baseball_drag['Drag coefficient'])\n",
    "vs = linspace(0, 60, 101)\n",
    "cds = drag_interp(vs)\n",
    "plot(vs, cds)\n",
    "decorate(xlabel = 'Velocity (m/s)', ylabel = 'C_d')"
   ]
  },
  {
   "cell_type": "code",
   "execution_count": 17,
   "metadata": {},
   "outputs": [],
   "source": [
    "def drag_force(v, system):\n",
    "    \"\"\"finds drag force in the opposing direction to velocity\n",
    "    \n",
    "    v: velocity\n",
    "    system: System object with rho, C_d, area\n",
    "    \n",
    "    returns: Vector drag force\n",
    "    \"\"\"\n",
    "    \n",
    "    unpack(system)\n",
    "    C_d = drag_interp(v.mag)\n",
    "    mag = -rho * v.mag ** 2 * C_d * area / 2\n",
    "    direction = v.hat()\n",
    "    f_drag = direction * mag\n",
    "    return f_drag"
   ]
  },
  {
   "cell_type": "code",
   "execution_count": 18,
   "metadata": {},
   "outputs": [],
   "source": [
    "def slope_func_proj(state, t, system):\n",
    "    \"\"\"Computes derivatives of the state variables.\n",
    "    \n",
    "    state: State (x, y, x velocity, y velocity)\n",
    "    t: time\n",
    "    system: System object with g, rho, C_d, area, mass\n",
    "    \n",
    "    returns: sequence (vx, vy, ax, ay)\n",
    "    \"\"\"\n",
    "    x, y, vx, vy = state\n",
    "    unpack(system)\n",
    "\n",
    "    v = Vector(vx, vy)    \n",
    "    a_drag = drag_force(v, system) / mass\n",
    "    a_grav = Vector(0, -g)\n",
    "    \n",
    "    a = a_grav + a_drag\n",
    "    \n",
    "    return vx, vy, a.x, a.y"
   ]
  },
  {
   "cell_type": "code",
   "execution_count": 19,
   "metadata": {},
   "outputs": [
    {
     "data": {
      "text/plain": [
       "(199.8521768801337,\n",
       " 2.739702052570245,\n",
       " <Quantity(-248.37231712895866, 'dimensionless')>,\n",
       " <Quantity(-13.204847310960051, 'dimensionless')>)"
      ]
     },
     "execution_count": 19,
     "metadata": {},
     "output_type": "execute_result"
    }
   ],
   "source": [
    "slope_func_proj(system_proj.init, 0, system_proj)"
   ]
  },
  {
   "cell_type": "code",
   "execution_count": 20,
   "metadata": {},
   "outputs": [],
   "source": [
    "def event_func_proj(state, t, system):\n",
    "    \"\"\"Stop when the y coordinate is 0.\n",
    "    \n",
    "    state: State object\n",
    "    t: time\n",
    "    system: System object\n",
    "    \n",
    "    returns: y coordinate\n",
    "    \"\"\"\n",
    "    x, y, vx, vy = state\n",
    "    return y"
   ]
  },
  {
   "cell_type": "code",
   "execution_count": 21,
   "metadata": {},
   "outputs": [
    {
     "data": {
      "text/plain": [
       "2.121320343559643"
      ]
     },
     "execution_count": 21,
     "metadata": {},
     "output_type": "execute_result"
    }
   ],
   "source": [
    "event_func_proj(system_proj.init, 0, system_proj)"
   ]
  },
  {
   "cell_type": "code",
   "execution_count": 22,
   "metadata": {},
   "outputs": [
    {
     "data": {
      "text/html": [
       "<div>\n",
       "<style scoped>\n",
       "    .dataframe tbody tr th:only-of-type {\n",
       "        vertical-align: middle;\n",
       "    }\n",
       "\n",
       "    .dataframe tbody tr th {\n",
       "        vertical-align: top;\n",
       "    }\n",
       "\n",
       "    .dataframe thead th {\n",
       "        text-align: right;\n",
       "    }\n",
       "</style>\n",
       "<table border=\"1\" class=\"dataframe\">\n",
       "  <thead>\n",
       "    <tr style=\"text-align: right;\">\n",
       "      <th></th>\n",
       "      <th>values</th>\n",
       "    </tr>\n",
       "  </thead>\n",
       "  <tbody>\n",
       "    <tr>\n",
       "      <th>sol</th>\n",
       "      <td>None</td>\n",
       "    </tr>\n",
       "    <tr>\n",
       "      <th>t_events</th>\n",
       "      <td>[[1.0066822555436694]]</td>\n",
       "    </tr>\n",
       "    <tr>\n",
       "      <th>nfev</th>\n",
       "      <td>146</td>\n",
       "    </tr>\n",
       "    <tr>\n",
       "      <th>njev</th>\n",
       "      <td>0</td>\n",
       "    </tr>\n",
       "    <tr>\n",
       "      <th>nlu</th>\n",
       "      <td>0</td>\n",
       "    </tr>\n",
       "    <tr>\n",
       "      <th>status</th>\n",
       "      <td>1</td>\n",
       "    </tr>\n",
       "    <tr>\n",
       "      <th>message</th>\n",
       "      <td>A termination event occurred.</td>\n",
       "    </tr>\n",
       "    <tr>\n",
       "      <th>success</th>\n",
       "      <td>True</td>\n",
       "    </tr>\n",
       "  </tbody>\n",
       "</table>\n",
       "</div>"
      ],
      "text/plain": [
       "sol                                  None\n",
       "t_events           [[1.0066822555436694]]\n",
       "nfev                                  146\n",
       "njev                                    0\n",
       "nlu                                     0\n",
       "status                                  1\n",
       "message     A termination event occurred.\n",
       "success                              True\n",
       "dtype: object"
      ]
     },
     "execution_count": 22,
     "metadata": {},
     "output_type": "execute_result"
    }
   ],
   "source": [
    "system_proj = System(system_proj, drag_interp = drag_interp)\n",
    "results_proj, details_proj = run_ode_solver(system_proj, slope_func_proj, \n",
    "                                            events = event_func_proj, max_step=0.05)\n",
    "details_proj"
   ]
  },
  {
   "cell_type": "code",
   "execution_count": 23,
   "metadata": {},
   "outputs": [
    {
     "data": {
      "text/plain": [
       "<scipy.interpolate.interpolate.interp1d at 0x1236c0f69f8>"
      ]
     },
     "execution_count": 23,
     "metadata": {},
     "output_type": "execute_result"
    }
   ],
   "source": [
    "results_proj_int_x = interpolate(results_proj.x)\n",
    "results_proj_int_y = interpolate(results_proj.y)"
   ]
  },
  {
   "cell_type": "code",
   "execution_count": 24,
   "metadata": {},
   "outputs": [
    {
     "data": {
      "text/html": [
       "<div>\n",
       "<style scoped>\n",
       "    .dataframe tbody tr th:only-of-type {\n",
       "        vertical-align: middle;\n",
       "    }\n",
       "\n",
       "    .dataframe tbody tr th {\n",
       "        vertical-align: top;\n",
       "    }\n",
       "\n",
       "    .dataframe thead th {\n",
       "        text-align: right;\n",
       "    }\n",
       "</style>\n",
       "<table border=\"1\" class=\"dataframe\">\n",
       "  <thead>\n",
       "    <tr style=\"text-align: right;\">\n",
       "      <th></th>\n",
       "      <th>x</th>\n",
       "      <th>y</th>\n",
       "      <th>vx</th>\n",
       "      <th>vy</th>\n",
       "    </tr>\n",
       "  </thead>\n",
       "  <tbody>\n",
       "    <tr>\n",
       "      <th>0.000000</th>\n",
       "      <td>0.000000</td>\n",
       "      <td>2.121320e+00</td>\n",
       "      <td>199.852177</td>\n",
       "      <td>2.739702</td>\n",
       "    </tr>\n",
       "    <tr>\n",
       "      <th>0.000009</th>\n",
       "      <td>0.001732</td>\n",
       "      <td>2.121344e+00</td>\n",
       "      <td>199.850025</td>\n",
       "      <td>2.739588</td>\n",
       "    </tr>\n",
       "    <tr>\n",
       "      <th>0.000095</th>\n",
       "      <td>0.019046</td>\n",
       "      <td>2.121581e+00</td>\n",
       "      <td>199.828509</td>\n",
       "      <td>2.738444</td>\n",
       "    </tr>\n",
       "    <tr>\n",
       "      <th>0.000962</th>\n",
       "      <td>0.192089</td>\n",
       "      <td>2.123949e+00</td>\n",
       "      <td>199.613639</td>\n",
       "      <td>2.727013</td>\n",
       "    </tr>\n",
       "    <tr>\n",
       "      <th>0.009626</th>\n",
       "      <td>1.912367</td>\n",
       "      <td>2.147084e+00</td>\n",
       "      <td>197.493869</td>\n",
       "      <td>2.613595</td>\n",
       "    </tr>\n",
       "    <tr>\n",
       "      <th>0.059626</th>\n",
       "      <td>11.498420</td>\n",
       "      <td>2.261931e+00</td>\n",
       "      <td>186.202842</td>\n",
       "      <td>1.988137</td>\n",
       "    </tr>\n",
       "    <tr>\n",
       "      <th>0.109626</th>\n",
       "      <td>20.555574</td>\n",
       "      <td>2.346607e+00</td>\n",
       "      <td>176.289988</td>\n",
       "      <td>1.405304</td>\n",
       "    </tr>\n",
       "    <tr>\n",
       "      <th>0.159626</th>\n",
       "      <td>29.146171</td>\n",
       "      <td>2.403043e+00</td>\n",
       "      <td>167.504209</td>\n",
       "      <td>0.857449</td>\n",
       "    </tr>\n",
       "    <tr>\n",
       "      <th>0.209626</th>\n",
       "      <td>37.321557</td>\n",
       "      <td>2.432836e+00</td>\n",
       "      <td>159.653564</td>\n",
       "      <td>0.338720</td>\n",
       "    </tr>\n",
       "    <tr>\n",
       "      <th>0.259626</th>\n",
       "      <td>45.124603</td>\n",
       "      <td>2.437324e+00</td>\n",
       "      <td>152.588535</td>\n",
       "      <td>-0.155448</td>\n",
       "    </tr>\n",
       "    <tr>\n",
       "      <th>0.309626</th>\n",
       "      <td>52.591518</td>\n",
       "      <td>2.417640e+00</td>\n",
       "      <td>146.190731</td>\n",
       "      <td>-0.628676</td>\n",
       "    </tr>\n",
       "    <tr>\n",
       "      <th>0.359626</th>\n",
       "      <td>59.753202</td>\n",
       "      <td>2.374757e+00</td>\n",
       "      <td>140.365053</td>\n",
       "      <td>-1.083876</td>\n",
       "    </tr>\n",
       "    <tr>\n",
       "      <th>0.409626</th>\n",
       "      <td>66.636262</td>\n",
       "      <td>2.309513e+00</td>\n",
       "      <td>135.034141</td>\n",
       "      <td>-1.523421</td>\n",
       "    </tr>\n",
       "    <tr>\n",
       "      <th>0.459626</th>\n",
       "      <td>73.263796</td>\n",
       "      <td>2.222643e+00</td>\n",
       "      <td>130.134349</td>\n",
       "      <td>-1.949265</td>\n",
       "    </tr>\n",
       "    <tr>\n",
       "      <th>0.509626</th>\n",
       "      <td>79.655996</td>\n",
       "      <td>2.114788e+00</td>\n",
       "      <td>125.612790</td>\n",
       "      <td>-2.363035</td>\n",
       "    </tr>\n",
       "    <tr>\n",
       "      <th>0.559626</th>\n",
       "      <td>85.830636</td>\n",
       "      <td>1.986518e+00</td>\n",
       "      <td>121.425110</td>\n",
       "      <td>-2.766098</td>\n",
       "    </tr>\n",
       "    <tr>\n",
       "      <th>0.609626</th>\n",
       "      <td>91.803444</td>\n",
       "      <td>1.838337e+00</td>\n",
       "      <td>117.533811</td>\n",
       "      <td>-3.159611</td>\n",
       "    </tr>\n",
       "    <tr>\n",
       "      <th>0.659626</th>\n",
       "      <td>97.588421</td>\n",
       "      <td>1.670699e+00</td>\n",
       "      <td>113.906947</td>\n",
       "      <td>-3.544559</td>\n",
       "    </tr>\n",
       "    <tr>\n",
       "      <th>0.709626</th>\n",
       "      <td>103.198087</td>\n",
       "      <td>1.484010e+00</td>\n",
       "      <td>110.517121</td>\n",
       "      <td>-3.921790</td>\n",
       "    </tr>\n",
       "    <tr>\n",
       "      <th>0.759626</th>\n",
       "      <td>108.643688</td>\n",
       "      <td>1.278637e+00</td>\n",
       "      <td>107.340685</td>\n",
       "      <td>-4.292037</td>\n",
       "    </tr>\n",
       "    <tr>\n",
       "      <th>0.809626</th>\n",
       "      <td>113.935369</td>\n",
       "      <td>1.054912e+00</td>\n",
       "      <td>104.357113</td>\n",
       "      <td>-4.655934</td>\n",
       "    </tr>\n",
       "    <tr>\n",
       "      <th>0.859626</th>\n",
       "      <td>119.082314</td>\n",
       "      <td>8.131397e-01</td>\n",
       "      <td>101.548491</td>\n",
       "      <td>-5.014037</td>\n",
       "    </tr>\n",
       "    <tr>\n",
       "      <th>0.909626</th>\n",
       "      <td>124.092871</td>\n",
       "      <td>5.535967e-01</td>\n",
       "      <td>98.899108</td>\n",
       "      <td>-5.366835</td>\n",
       "    </tr>\n",
       "    <tr>\n",
       "      <th>0.959626</th>\n",
       "      <td>128.974647</td>\n",
       "      <td>2.765375e-01</td>\n",
       "      <td>96.395121</td>\n",
       "      <td>-5.714755</td>\n",
       "    </tr>\n",
       "    <tr>\n",
       "      <th>1.006682</th>\n",
       "      <td>133.457621</td>\n",
       "      <td>2.220446e-16</td>\n",
       "      <td>94.160377</td>\n",
       "      <td>-6.038079</td>\n",
       "    </tr>\n",
       "  </tbody>\n",
       "</table>\n",
       "</div>"
      ],
      "text/plain": [
       "                   x             y          vx        vy\n",
       "0.000000    0.000000  2.121320e+00  199.852177  2.739702\n",
       "0.000009    0.001732  2.121344e+00  199.850025  2.739588\n",
       "0.000095    0.019046  2.121581e+00  199.828509  2.738444\n",
       "0.000962    0.192089  2.123949e+00  199.613639  2.727013\n",
       "0.009626    1.912367  2.147084e+00  197.493869  2.613595\n",
       "0.059626   11.498420  2.261931e+00  186.202842  1.988137\n",
       "0.109626   20.555574  2.346607e+00  176.289988  1.405304\n",
       "0.159626   29.146171  2.403043e+00  167.504209  0.857449\n",
       "0.209626   37.321557  2.432836e+00  159.653564  0.338720\n",
       "0.259626   45.124603  2.437324e+00  152.588535 -0.155448\n",
       "0.309626   52.591518  2.417640e+00  146.190731 -0.628676\n",
       "0.359626   59.753202  2.374757e+00  140.365053 -1.083876\n",
       "0.409626   66.636262  2.309513e+00  135.034141 -1.523421\n",
       "0.459626   73.263796  2.222643e+00  130.134349 -1.949265\n",
       "0.509626   79.655996  2.114788e+00  125.612790 -2.363035\n",
       "0.559626   85.830636  1.986518e+00  121.425110 -2.766098\n",
       "0.609626   91.803444  1.838337e+00  117.533811 -3.159611\n",
       "0.659626   97.588421  1.670699e+00  113.906947 -3.544559\n",
       "0.709626  103.198087  1.484010e+00  110.517121 -3.921790\n",
       "0.759626  108.643688  1.278637e+00  107.340685 -4.292037\n",
       "0.809626  113.935369  1.054912e+00  104.357113 -4.655934\n",
       "0.859626  119.082314  8.131397e-01  101.548491 -5.014037\n",
       "0.909626  124.092871  5.535967e-01   98.899108 -5.366835\n",
       "0.959626  128.974647  2.765375e-01   96.395121 -5.714755\n",
       "1.006682  133.457621  2.220446e-16   94.160377 -6.038079"
      ]
     },
     "execution_count": 24,
     "metadata": {},
     "output_type": "execute_result"
    }
   ],
   "source": [
    "results_proj"
   ]
  },
  {
   "cell_type": "code",
   "execution_count": 25,
   "metadata": {},
   "outputs": [
    {
     "data": {
      "image/png": "[encoded data removed]",
      "text/plain": [
       "<Figure size 432x288 with 1 Axes>"
      ]
     },
     "metadata": {},
     "output_type": "display_data"
    }
   ],
   "source": [
    "plot(results_proj.x, results_proj.y)\n",
    "\n",
    "decorate(title='Trajectory Plot', \n",
    "         xlabel='x position (m)',\n",
    "         ylabel='y position (m)')"
   ]
  },
  {
   "cell_type": "code",
   "execution_count": 26,
   "metadata": {},
   "outputs": [],
   "source": [
    "def simulation(angle_elevation, make_system, slope_func, params, params_proj, drag_interp, slope_func_proj, event_func_proj):\n",
    "    params_new = Params(params, angle_elevation = angle_elevation)\n",
    "    system = make_system(params_new)\n",
    "    results_sim, details_sim = run_ode_solver(system, slope_func, events = event_func, max_step = 0.00001)\n",
    "  \n",
    "    params_proj_new = Params(params_proj, angle = params.angle_elevation, velocity = get_last_value(results_sim.v))\n",
    "    system_proj = make_system_proj(params_proj_new, params)\n",
    "    results_proj, details_proj = run_ode_solver(system_proj, slope_func_proj, \n",
    "                                            events = event_func_proj, max_step=0.1)\n",
    "    print(angle_elevation)\n",
    "    return results_proj.x, results_proj.y"
   ]
  },
  {
   "cell_type": "code",
   "execution_count": 27,
   "metadata": {},
   "outputs": [
    {
     "name": "stdout",
     "output_type": "stream",
     "text": [
      "0.0\n",
      "0.1121997376282069\n",
      "0.2243994752564138\n",
      "0.3365992128846207\n",
      "0.4487989505128276\n",
      "0.5609986881410345\n",
      "0.6731984257692414\n",
      "0.7853981633974483\n",
      "0.8975979010256552\n",
      "1.009797638653862\n",
      "1.121997376282069\n",
      "1.2341971139102759\n",
      "1.3463968515384828\n",
      "1.4585965891666897\n",
      "1.5707963267948966\n"
     ]
    },
    {
     "data": {
      "image/png": "[encoded data removed]",
      "text/plain": [
       "<Figure size 432x288 with 1 Axes>"
      ]
     },
     "metadata": {},
     "output_type": "display_data"
    }
   ],
   "source": [
    "sweep = SweepSeries()\n",
    "for i in range(0, num_sweeps): \n",
    "    angle_linspace = linspace(0, pi/2, num_sweeps)\n",
    "    params.angle_elevation = angle_linspace[i]\n",
    "    results_proj_x, results_proj_y = simulation(params.angle_elevation, make_system, slope_func, params, params_proj, \n",
    "               drag_interp, slope_func_proj, event_func_proj)\n",
    "    \n",
    "    plot(results_proj_x, results_proj_y)"
   ]
  },
  {
   "cell_type": "code",
   "execution_count": 28,
   "metadata": {},
   "outputs": [
    {
     "ename": "AttributeError",
     "evalue": "'SweepSeries' object has no attribute 'x'",
     "output_type": "error",
     "traceback": [
      "\u001b[1;31m---------------------------------------------------------------------------\u001b[0m",
      "\u001b[1;31mAttributeError\u001b[0m                            Traceback (most recent call last)",
      "\u001b[1;32m<ipython-input-28-0bc04b0bdd03>\u001b[0m in \u001b[0;36m<module>\u001b[1;34m()\u001b[0m\n\u001b[0;32m      1\u001b[0m \u001b[1;32mfor\u001b[0m \u001b[0mi\u001b[0m \u001b[1;32min\u001b[0m \u001b[0mrange\u001b[0m\u001b[1;33m(\u001b[0m\u001b[1;36m0\u001b[0m\u001b[1;33m,\u001b[0m \u001b[0mnum_sweeps\u001b[0m\u001b[1;33m)\u001b[0m\u001b[1;33m:\u001b[0m\u001b[1;33m\u001b[0m\u001b[0m\n\u001b[1;32m----> 2\u001b[1;33m     \u001b[0mplot\u001b[0m\u001b[1;33m(\u001b[0m\u001b[0msweep\u001b[0m\u001b[1;33m.\u001b[0m\u001b[0mx\u001b[0m\u001b[1;33m[\u001b[0m\u001b[0mi\u001b[0m\u001b[1;33m]\u001b[0m\u001b[1;33m,\u001b[0m \u001b[0msweep\u001b[0m\u001b[1;33m.\u001b[0m\u001b[0my\u001b[0m\u001b[1;33m[\u001b[0m\u001b[0mi\u001b[0m\u001b[1;33m]\u001b[0m\u001b[1;33m)\u001b[0m\u001b[1;33m\u001b[0m\u001b[0m\n\u001b[0m",
      "\u001b[1;32mC:\\Miniconda3\\lib\\site-packages\\pandas\\core\\generic.py\u001b[0m in \u001b[0;36m__getattr__\u001b[1;34m(self, name)\u001b[0m\n\u001b[0;32m   4374\u001b[0m             \u001b[1;32mif\u001b[0m \u001b[0mself\u001b[0m\u001b[1;33m.\u001b[0m\u001b[0m_info_axis\u001b[0m\u001b[1;33m.\u001b[0m\u001b[0m_can_hold_identifiers_and_holds_name\u001b[0m\u001b[1;33m(\u001b[0m\u001b[0mname\u001b[0m\u001b[1;33m)\u001b[0m\u001b[1;33m:\u001b[0m\u001b[1;33m\u001b[0m\u001b[0m\n\u001b[0;32m   4375\u001b[0m                 \u001b[1;32mreturn\u001b[0m \u001b[0mself\u001b[0m\u001b[1;33m[\u001b[0m\u001b[0mname\u001b[0m\u001b[1;33m]\u001b[0m\u001b[1;33m\u001b[0m\u001b[0m\n\u001b[1;32m-> 4376\u001b[1;33m             \u001b[1;32mreturn\u001b[0m \u001b[0mobject\u001b[0m\u001b[1;33m.\u001b[0m\u001b[0m__getattribute__\u001b[0m\u001b[1;33m(\u001b[0m\u001b[0mself\u001b[0m\u001b[1;33m,\u001b[0m \u001b[0mname\u001b[0m\u001b[1;33m)\u001b[0m\u001b[1;33m\u001b[0m\u001b[0m\n\u001b[0m\u001b[0;32m   4377\u001b[0m \u001b[1;33m\u001b[0m\u001b[0m\n\u001b[0;32m   4378\u001b[0m     \u001b[1;32mdef\u001b[0m \u001b[0m__setattr__\u001b[0m\u001b[1;33m(\u001b[0m\u001b[0mself\u001b[0m\u001b[1;33m,\u001b[0m \u001b[0mname\u001b[0m\u001b[1;33m,\u001b[0m \u001b[0mvalue\u001b[0m\u001b[1;33m)\u001b[0m\u001b[1;33m:\u001b[0m\u001b[1;33m\u001b[0m\u001b[0m\n",
      "\u001b[1;31mAttributeError\u001b[0m: 'SweepSeries' object has no attribute 'x'"
     ]
    }
   ],
   "source": [
    "for i in range(0, num_sweeps):\n",
    "    plot(sweep.x[i], sweep.y[i])"
   ]
  },
  {
   "cell_type": "code",
   "execution_count": null,
   "metadata": {},
   "outputs": [],
   "source": [
    "# Source for coeff fric: http://www.engineershandbook.com/Tables/frictioncoefficients.htm"
   ]
  }
 ],
 "metadata": {
  "kernelspec": {
   "display_name": "Python 3",
   "language": "python",
   "name": "python3"
  },
  "language_info": {
   "codemirror_mode": {
    "name": "ipython",
    "version": 3
   },
   "file_extension": ".py",
   "mimetype": "text/x-python",
   "name": "python",
   "nbconvert_exporter": "python",
   "pygments_lexer": "ipython3",
   "version": "3.6.6"
  }
 },
 "nbformat": 4,
 "nbformat_minor": 2
}
