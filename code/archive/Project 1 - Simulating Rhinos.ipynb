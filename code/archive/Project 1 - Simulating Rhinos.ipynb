{
 "cells": [
  {
   "cell_type": "markdown",
   "metadata": {},
   "source": [
    "# Project 1 - Simulating Rhinos"
   ]
  },
  {
   "cell_type": "markdown",
   "metadata": {},
   "source": [
    "Copyright Duncan Mazza and Aditya Sudhakar \n",
    "\n",
    "*No model is correct, but some are useful"
   ]
  },
  {
   "cell_type": "code",
   "execution_count": 1,
   "metadata": {},
   "outputs": [],
   "source": [
    "# Configure Jupyter so figures appear in the notebook\n",
    "%matplotlib inline\n",
    "\n",
    "# Configure Jupyter to display the assigned value after an assignment\n",
    "%config InteractiveShell.ast_node_interactivity='last_expr_or_assign'\n",
    "\n",
    "# import functions from the modsim library\n",
    "from modsim import *\n",
    "from pandas import read_html "
   ]
  },
  {
   "cell_type": "code",
   "execution_count": 2,
   "metadata": {},
   "outputs": [],
   "source": [
    "def plot_results(census, un, timeseries, title):\n",
    "    \"\"\"Plot the estimates and the model.\n",
    "    \n",
    "    census: TimeSeries of population estimates\n",
    "    un: TimeSeries of population estimates\n",
    "    timeseries: TimeSeries of simulation results\n",
    "    title: string\n",
    "    \"\"\"\n",
    "    plot()\n",
    "    plot()\n",
    "    if len(timeseries):\n",
    "        plot(timeseries, color='gray', label='model')\n",
    "    \n",
    "    decorate(xlabel='', \n",
    "             ylabel='',\n",
    "             title=title)"
   ]
  },
  {
   "cell_type": "code",
   "execution_count": 3,
   "metadata": {},
   "outputs": [
    {
     "data": {
      "text/html": [
       "<div>\n",
       "<style scoped>\n",
       "    .dataframe tbody tr th:only-of-type {\n",
       "        vertical-align: middle;\n",
       "    }\n",
       "\n",
       "    .dataframe tbody tr th {\n",
       "        vertical-align: top;\n",
       "    }\n",
       "\n",
       "    .dataframe thead th {\n",
       "        text-align: right;\n",
       "    }\n",
       "</style>\n",
       "<table border=\"1\" class=\"dataframe\">\n",
       "  <thead>\n",
       "    <tr style=\"text-align: right;\">\n",
       "      <th></th>\n",
       "      <th>values</th>\n",
       "    </tr>\n",
       "  </thead>\n",
       "  <tbody>\n",
       "    <tr>\n",
       "      <th>pop</th>\n",
       "      <td>0</td>\n",
       "    </tr>\n",
       "    <tr>\n",
       "      <th>succ</th>\n",
       "      <td>0</td>\n",
       "    </tr>\n",
       "    <tr>\n",
       "      <th>fail</th>\n",
       "      <td>0</td>\n",
       "    </tr>\n",
       "  </tbody>\n",
       "</table>\n",
       "</div>"
      ],
      "text/plain": [
       "pop     0\n",
       "succ    0\n",
       "fail    0\n",
       "dtype: int64"
      ]
     },
     "execution_count": 3,
     "metadata": {},
     "output_type": "execute_result"
    }
   ],
   "source": [
    "system = System(pop_init = 100,\n",
    "                t_0 = 0,\n",
    "                t_final = 20,\n",
    "                birth_rate = 0.05,\n",
    "                death_rate = 0.1\n",
    "                )\n",
    "\n",
    "state = State(pop = 0, succ = 0, fail = 0)"
   ]
  },
  {
   "cell_type": "code",
   "execution_count": 10,
   "metadata": {},
   "outputs": [],
   "source": [
    "def run_simulation1(state, system):\n",
    "                \n",
    "    state.pop = int(system.pop_init)\n",
    "    \n",
    "    for i in range (state.pop):\n",
    "       \n",
    "        if flip(system.birth_rate):\n",
    "            state.pop += 1\n",
    "        if flip(system.death_rate):\n",
    "            state.pop -=1\n",
    "\n",
    "    return state.pop\n",
    "\n",
    "def run_simulation2_20(state, system):\n",
    "                \n",
    "    for i in range (state.pop):\n",
    "       \n",
    "        if flip(system.birth_rate):\n",
    "            state.pop += 1\n",
    "        if flip(system.death_rate):\n",
    "            state.pop -=1\n",
    "\n",
    "    return state.pop"
   ]
  },
  {
   "cell_type": "code",
   "execution_count": 11,
   "metadata": {},
   "outputs": [],
   "source": [
    "#sub_final = run_simulation1(state, system)"
   ]
  },
  {
   "cell_type": "code",
   "execution_count": 12,
   "metadata": {},
   "outputs": [],
   "source": [
    "def run_simulation20(state, system):\n",
    "    \n",
    "    for i in linrange(1,20,1): #Can we not hardcode this?\n",
    "        \n",
    "        if i == 1:\n",
    "            state.pop = run_simulation1(state, system) \n",
    "        if i >= 2:\n",
    "            state.pop = run_simulation2_20(state, system)\n",
    "    \n",
    "    \n",
    "    return state.pop"
   ]
  },
  {
   "cell_type": "code",
   "execution_count": 13,
   "metadata": {},
   "outputs": [
    {
     "name": "stdout",
     "output_type": "stream",
     "text": [
      "The final number of rhinos after a simulation of 20 years: 43\n"
     ]
    }
   ],
   "source": [
    "final = run_simulation20(state, system)\n",
    "print('The final number of rhinos after a simulation of 20 years:', final)"
   ]
  },
  {
   "cell_type": "code",
   "execution_count": null,
   "metadata": {},
   "outputs": [],
   "source": [
    "record = TimeSeries()\n",
    "def run_many_times(state, system, record):\n",
    "    for i in range(100):\n",
    "        record[i] = run_simulation20(state, system)\n",
    "    return record\n",
    "\n",
    "record = run_many_times(state, system, record)\n",
    "print(record)\n",
    "\n",
    "def succ_or_fail(state, system, record):\n",
    "    \n",
    "    state.succ = 0\n",
    "    \n",
    "    for i in range(100):\n",
    "        if record[i] >= 0:\n",
    "            state.succ += 1\n",
    "    \n",
    "    p_succ = state.succ / 100\n",
    "    return p_succ\n",
    "            \n",
    "p_succ = succ_or_fail(state, system, record)\n",
    "print('Probability of the simulation of 20 years returning a positive number of rhinos after 100 repititions:', p_succ)\n"
   ]
  }
 ],
 "metadata": {
  "kernelspec": {
   "display_name": "Python 3",
   "language": "python",
   "name": "python3"
  },
  "language_info": {
   "codemirror_mode": {
    "name": "ipython",
    "version": 3
   },
   "file_extension": ".py",
   "mimetype": "text/x-python",
   "name": "python",
   "nbconvert_exporter": "python",
   "pygments_lexer": "ipython3",
   "version": "3.6.6"
  }
 },
 "nbformat": 4,
 "nbformat_minor": 2
}
