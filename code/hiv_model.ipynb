{
 "cells": [
  {
   "cell_type": "markdown",
   "metadata": {},
   "source": [
    "# HIV Model\n",
    "Duncan Mazza"
   ]
  },
  {
   "cell_type": "code",
   "execution_count": 1,
   "metadata": {},
   "outputs": [],
   "source": [
    "# Configure Jupyter so figures appear in the notebook\n",
    "%matplotlib inline\n",
    "\n",
    "# Configure Jupyter to display the assigned value after an assignment\n",
    "%config InteractiveShell.ast_node_interactivity='last_expr_or_assign'\n",
    "\n",
    "# import functions from the modsim.py module\n",
    "from modsim import *\n",
    "\n",
    "from pandas import read_html"
   ]
  },
  {
   "cell_type": "code",
   "execution_count": null,
   "metadata": {},
   "outputs": [],
   "source": [
    "def make_system(Γ, τ, μ, β, ρ, α, π, σ):\n",
    "    \"\"\"Make a system object for the SIR model.\n",
    "    \n",
    "    System variables: Γ, τ, μ, β, ρ, α, π, σ\n",
    "    init is the initial total population \n",
    "    \n",
    "    returns: System object\n",
    "    \"\"\"\n",
    "    init = State(R=, L=, E=, V=)\n",
    "    init /= np.sum(init)\n",
    "\n",
    "    t0 = 0\n",
    "    t_end = \n",
    "    \n",
    "    return System(init=init, t0=t0, t_end=t_end,\n",
    "                  Γ = Γ, τ = τ, μ = μ, β = β, \n",
    "                  ρ = ρ, α = α, π = π, σ = σ)\n",
    "\n",
    "## Still need to determine starting values for stocks and the final time!! "
   ]
  },
  {
   "cell_type": "code",
   "execution_count": null,
   "metadata": {},
   "outputs": [],
   "source": [
    "def update_func(state, t, system):\n",
    "    \n",
    "    unpack(system)\n",
    "    \n",
    "    \"\"\"Update the SIR model.\n",
    "    \n",
    "    state: State (R, L, E, V)\n",
    "    t: time\n",
    "    system: System object\n",
    "    \n",
    "    returns: State (sir)\n",
    "    \"\"\"\n",
    "    r, l, e, v = state\n",
    "\n",
    "    sink_to_r = Γ * τ\n",
    "    r_to_sink = μ * r\n",
    "    r_to_l = β * ρ * r * v\n",
    "    r_to_e = (1 - ρ) * β * r * v\n",
    "    l_to_sink = μ * L\n",
    "    \n",
    "\n",
    "    return State(S=s, I=i, R=r)"
   ]
  }
 ],
 "metadata": {
  "kernelspec": {
   "display_name": "Python 3",
   "language": "python",
   "name": "python3"
  },
  "language_info": {
   "codemirror_mode": {
    "name": "ipython",
    "version": 3
   },
   "file_extension": ".py",
   "mimetype": "text/x-python",
   "name": "python",
   "nbconvert_exporter": "python",
   "pygments_lexer": "ipython3",
   "version": "3.6.6"
  }
 },
 "nbformat": 4,
 "nbformat_minor": 2
}
