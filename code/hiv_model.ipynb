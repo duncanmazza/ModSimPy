{
 "cells": [
  {
   "cell_type": "markdown",
   "metadata": {},
   "source": [
    "# HIV Model\n",
    "Duncan Mazza"
   ]
  },
  {
   "cell_type": "code",
   "execution_count": 123,
   "metadata": {},
   "outputs": [],
   "source": [
    "# Configure Jupyter so figures appear in the notebook\n",
    "%matplotlib inline\n",
    "\n",
    "# Configure Jupyter to display the assigned value after an assignment\n",
    "%config InteractiveShell.ast_node_interactivity='last_expr_or_assign'\n",
    "\n",
    "# import functions from the modsim.py module\n",
    "from modsim import *\n",
    "\n",
    "from pandas import read_html"
   ]
  },
  {
   "cell_type": "code",
   "execution_count": 124,
   "metadata": {},
   "outputs": [
    {
     "data": {
      "text/html": [
       "<div>\n",
       "<style scoped>\n",
       "    .dataframe tbody tr th:only-of-type {\n",
       "        vertical-align: middle;\n",
       "    }\n",
       "\n",
       "    .dataframe tbody tr th {\n",
       "        vertical-align: top;\n",
       "    }\n",
       "\n",
       "    .dataframe thead th {\n",
       "        text-align: right;\n",
       "    }\n",
       "</style>\n",
       "<table border=\"1\" class=\"dataframe\">\n",
       "  <thead>\n",
       "    <tr style=\"text-align: right;\">\n",
       "      <th></th>\n",
       "      <th>values</th>\n",
       "    </tr>\n",
       "  </thead>\n",
       "  <tbody>\n",
       "    <tr>\n",
       "      <th>t0</th>\n",
       "      <td>0.00000</td>\n",
       "    </tr>\n",
       "    <tr>\n",
       "      <th>t_end</th>\n",
       "      <td>120.00000</td>\n",
       "    </tr>\n",
       "    <tr>\n",
       "      <th>Γ</th>\n",
       "      <td>1.36000</td>\n",
       "    </tr>\n",
       "    <tr>\n",
       "      <th>τ</th>\n",
       "      <td>0.20000</td>\n",
       "    </tr>\n",
       "    <tr>\n",
       "      <th>μ</th>\n",
       "      <td>0.00136</td>\n",
       "    </tr>\n",
       "    <tr>\n",
       "      <th>β</th>\n",
       "      <td>0.00027</td>\n",
       "    </tr>\n",
       "    <tr>\n",
       "      <th>ρ</th>\n",
       "      <td>0.10000</td>\n",
       "    </tr>\n",
       "    <tr>\n",
       "      <th>α</th>\n",
       "      <td>0.03600</td>\n",
       "    </tr>\n",
       "    <tr>\n",
       "      <th>π</th>\n",
       "      <td>100.00000</td>\n",
       "    </tr>\n",
       "    <tr>\n",
       "      <th>σ</th>\n",
       "      <td>2.00000</td>\n",
       "    </tr>\n",
       "    <tr>\n",
       "      <th>δ</th>\n",
       "      <td>0.33000</td>\n",
       "    </tr>\n",
       "    <tr>\n",
       "      <th>dt</th>\n",
       "      <td>0.01000</td>\n",
       "    </tr>\n",
       "  </tbody>\n",
       "</table>\n",
       "</div>"
      ],
      "text/plain": [
       "t0         0.00000\n",
       "t_end    120.00000\n",
       "Γ          1.36000\n",
       "τ          0.20000\n",
       "μ          0.00136\n",
       "β          0.00027\n",
       "ρ          0.10000\n",
       "α          0.03600\n",
       "π        100.00000\n",
       "σ          2.00000\n",
       "δ          0.33000\n",
       "dt         0.01000\n",
       "dtype: float64"
      ]
     },
     "execution_count": 124,
     "metadata": {},
     "output_type": "execute_result"
    }
   ],
   "source": [
    "Γ = 1.36\n",
    "τ = 0.2 \n",
    "μ = 1.36e-3\n",
    "β = 0.00027\n",
    "ρ = 0.1\n",
    "α = 3.6e-2\n",
    "π = 100\n",
    "σ = 2\n",
    "δ = 0.33\n",
    "dt = 0.01\n",
    "\n",
    "system = System(t0=t0, t_end=t_end,\n",
    "                  Γ = Γ, τ = τ, μ = μ, β = β, \n",
    "                  ρ = ρ, α = α, π = π, σ = σ,\n",
    "                  δ = δ, dt = dt)\n",
    "\n",
    "init = State(R = 200, L = 0, E = 0, V = 4e-7)\n",
    "\n",
    "system"
   ]
  },
  {
   "cell_type": "code",
   "execution_count": 129,
   "metadata": {},
   "outputs": [],
   "source": [
    "def update_func(state, t, system):\n",
    "    \n",
    "    unpack(system)\n",
    "    \n",
    "    \"\"\"\n",
    "    Update the SIR model.\n",
    "    \n",
    "    state: State (R, L, E, V)\n",
    "    t: time\n",
    "    system: System object\n",
    "    \n",
    "    returns: State\n",
    "    \"\"\"\n",
    "    r, l, e, v = state\n",
    "    \n",
    "    # flows:\n",
    "    sink_to_r =   Γ * τ \n",
    "    r_to_sink =   μ * r\n",
    "    r_to_l =      β * ρ * r * v\n",
    "    r_to_e =      (1 - ρ) * β * r * v\n",
    "    l_to_sink =   μ * l\n",
    "    l_to_e =      α * l\n",
    "    e_to_sink =   δ * e\n",
    "    sink_to_v =   π * e\n",
    "    v_to_sink =   σ * v\n",
    "    \n",
    "    drdt = sink_to_r - r_to_sink - r_to_l - r_to_e\n",
    "    dldt = r_to_l - l_to_sink - l_to_e\n",
    "    dedt = l_to_e + r_to_e - e_to_sink\n",
    "    dvdt = sink_to_v - v_to_sink\n",
    "    \n",
    "    # dt is the time step - it is defined in system; stocks:\n",
    "    r += drdt * dt \n",
    "    l += dldt * dt\n",
    "    e += dedt * dt\n",
    "    v += dvdt * dt\n",
    "    \n",
    "    return State(R=r, L=l, E=e, V=v)"
   ]
  },
  {
   "cell_type": "code",
   "execution_count": 140,
   "metadata": {},
   "outputs": [
    {
     "data": {
      "text/html": [
       "<div>\n",
       "<style scoped>\n",
       "    .dataframe tbody tr th:only-of-type {\n",
       "        vertical-align: middle;\n",
       "    }\n",
       "\n",
       "    .dataframe tbody tr th {\n",
       "        vertical-align: top;\n",
       "    }\n",
       "\n",
       "    .dataframe thead th {\n",
       "        text-align: right;\n",
       "    }\n",
       "</style>\n",
       "<table border=\"1\" class=\"dataframe\">\n",
       "  <thead>\n",
       "    <tr style=\"text-align: right;\">\n",
       "      <th></th>\n",
       "      <th>values</th>\n",
       "    </tr>\n",
       "  </thead>\n",
       "  <tbody>\n",
       "    <tr>\n",
       "      <th>R</th>\n",
       "      <td>2.000000e+02</td>\n",
       "    </tr>\n",
       "    <tr>\n",
       "      <th>L</th>\n",
       "      <td>4.275993e-11</td>\n",
       "    </tr>\n",
       "    <tr>\n",
       "      <th>E</th>\n",
       "      <td>3.842783e-10</td>\n",
       "    </tr>\n",
       "    <tr>\n",
       "      <th>V</th>\n",
       "      <td>3.843544e-07</td>\n",
       "    </tr>\n",
       "  </tbody>\n",
       "</table>\n",
       "</div>"
      ],
      "text/plain": [
       "R    2.000000e+02\n",
       "L    4.275993e-11\n",
       "E    3.842783e-10\n",
       "V    3.843544e-07\n",
       "dtype: float64"
      ]
     },
     "execution_count": 140,
     "metadata": {},
     "output_type": "execute_result"
    }
   ],
   "source": [
    "update = update_func(init, 1, system)\n",
    "update2 = update_func(update, 1, system)"
   ]
  },
  {
   "cell_type": "code",
   "execution_count": 141,
   "metadata": {},
   "outputs": [],
   "source": [
    "t0 = 0\n",
    "system.t_end = 12000\n",
    "\n",
    "def run_simulation(system, update_func):\n",
    "    \"\"\"Runs a simulation of the system.\n",
    "        \n",
    "    system: System object\n",
    "    update_func: function that updates state\n",
    "    \n",
    "    returns: TimeFrame\n",
    "    \"\"\"\n",
    "    unpack(system)\n",
    "    \n",
    "    frame = TimeFrame(columns=init.index)\n",
    "    frame.row[t0] = init\n",
    "    \n",
    "    for t in linrange(t0, t_end):\n",
    "        frame.row[t+1] = update_func(frame.row[t], t, system)\n",
    "    \n",
    "    return frame"
   ]
  },
  {
   "cell_type": "code",
   "execution_count": 150,
   "metadata": {},
   "outputs": [],
   "source": [
    "def plot_results(R, L, E, V):\n",
    "    \n",
    "    plot(R, '--', label='R (Uninfected CD4 Lymphocytes)')\n",
    "    plot(L, '-', label='L (Latently Infected Cells)')\n",
    "    plot(E, ':', label='E (Actively Infected Cells)')\n",
    "    #plot(V, '*', label='V')\n"
   ]
  },
  {
   "cell_type": "code",
   "execution_count": 151,
   "metadata": {},
   "outputs": [
    {
     "data": {
      "image/png": "[encoded data removed]",
      "text/plain": [
       "<Figure size 432x288 with 1 Axes>"
      ]
     },
     "metadata": {},
     "output_type": "display_data"
    }
   ],
   "source": [
    "# defining global variables\n",
    "\n",
    "\n",
    "# making the system\n",
    "# system = make_system(Γ, τ, μ, β, ρ, α, π, σ, δ)\n",
    "\n",
    "\n",
    "\n",
    "output = run_simulation(system, update_func)\n",
    "\n",
    "#plot(output['L'])\n",
    "#plot(output['R'])\n",
    "#plot(output['V'])\n",
    "#plot(output['E'])\n",
    "#decorate(legend = True)\n",
    "\n",
    "plot_results(output.R, output.L, output.E, output.V)\n",
    "decorate(legend = True)"
   ]
  },
  {
   "cell_type": "code",
   "execution_count": null,
   "metadata": {},
   "outputs": [],
   "source": [
    "#although this doesn't look quite like the graphs in the paper, it is because different scales are used to represent what is effectively the same data."
   ]
  },
  {
   "cell_type": "code",
   "execution_count": null,
   "metadata": {},
   "outputs": [],
   "source": []
  }
 ],
 "metadata": {
  "kernelspec": {
   "display_name": "Python 3",
   "language": "python",
   "name": "python3"
  },
  "language_info": {
   "codemirror_mode": {
    "name": "ipython",
    "version": 3
   },
   "file_extension": ".py",
   "mimetype": "text/x-python",
   "name": "python",
   "nbconvert_exporter": "python",
   "pygments_lexer": "ipython3",
   "version": "3.6.6"
  }
 },
 "nbformat": 4,
 "nbformat_minor": 2
}
