{
 "cells": [
  {
   "cell_type": "markdown",
   "metadata": {},
   "source": [
    "# HIV Model\n",
    "Duncan Mazza"
   ]
  },
  {
   "cell_type": "code",
   "execution_count": 1,
   "metadata": {},
   "outputs": [],
   "source": [
    "# Configure Jupyter so figures appear in the notebook\n",
    "%matplotlib inline\n",
    "\n",
    "# Configure Jupyter to display the assigned value after an assignment\n",
    "%config InteractiveShell.ast_node_interactivity='last_expr_or_assign'\n",
    "\n",
    "# import functions from the modsim.py module\n",
    "from modsim import *\n",
    "\n",
    "from pandas import read_html"
   ]
  },
  {
   "cell_type": "code",
   "execution_count": 3,
   "metadata": {},
   "outputs": [
    {
     "ename": "NameError",
     "evalue": "name 't0' is not defined",
     "output_type": "error",
     "traceback": [
      "\u001b[1;31m---------------------------------------------------------------------------\u001b[0m",
      "\u001b[1;31mNameError\u001b[0m                                 Traceback (most recent call last)",
      "\u001b[1;32m<ipython-input-3-8447b5a87d60>\u001b[0m in \u001b[0;36m<module>\u001b[1;34m()\u001b[0m\n\u001b[0;32m     10\u001b[0m \u001b[0mdt\u001b[0m \u001b[1;33m=\u001b[0m \u001b[1;36m0.01\u001b[0m\u001b[1;33m\u001b[0m\u001b[0m\n\u001b[0;32m     11\u001b[0m \u001b[1;33m\u001b[0m\u001b[0m\n\u001b[1;32m---> 12\u001b[1;33m system = System(t0=t0, t_end=t_end,\n\u001b[0m\u001b[0;32m     13\u001b[0m                   \u001b[0mΓ\u001b[0m \u001b[1;33m=\u001b[0m \u001b[0mΓ\u001b[0m\u001b[1;33m,\u001b[0m \u001b[0mτ\u001b[0m \u001b[1;33m=\u001b[0m \u001b[0mτ\u001b[0m\u001b[1;33m,\u001b[0m \u001b[0mμ\u001b[0m \u001b[1;33m=\u001b[0m \u001b[0mμ\u001b[0m\u001b[1;33m,\u001b[0m \u001b[0mβ\u001b[0m \u001b[1;33m=\u001b[0m \u001b[0mβ\u001b[0m\u001b[1;33m,\u001b[0m\u001b[1;33m\u001b[0m\u001b[0m\n\u001b[0;32m     14\u001b[0m                   \u001b[0mρ\u001b[0m \u001b[1;33m=\u001b[0m \u001b[0mρ\u001b[0m\u001b[1;33m,\u001b[0m \u001b[0mα\u001b[0m \u001b[1;33m=\u001b[0m \u001b[0mα\u001b[0m\u001b[1;33m,\u001b[0m \u001b[0mπ\u001b[0m \u001b[1;33m=\u001b[0m \u001b[0mπ\u001b[0m\u001b[1;33m,\u001b[0m \u001b[0mσ\u001b[0m \u001b[1;33m=\u001b[0m \u001b[0mσ\u001b[0m\u001b[1;33m,\u001b[0m\u001b[1;33m\u001b[0m\u001b[0m\n",
      "\u001b[1;31mNameError\u001b[0m: name 't0' is not defined"
     ]
    }
   ],
   "source": [
    "Γ = 1.36\n",
    "τ = 0.2 \n",
    "μ = 1.36e-3\n",
    "β = 0.00027\n",
    "ρ = 0.1\n",
    "α = 3.6e-2\n",
    "π = 100\n",
    "σ = 2\n",
    "δ = 0.33\n",
    "dt = 0.01\n",
    "\n",
    "system = System(t0=t0, t_end=t_end,\n",
    "                  Γ = Γ, τ = τ, μ = μ, β = β, \n",
    "                  ρ = ρ, α = α, π = π, σ = σ,\n",
    "                  δ = δ, dt = dt)\n",
    "\n",
    "init = State(R = 200, L = 0, E = 0, V = 4e-7)\n",
    "\n",
    "system"
   ]
  },
  {
   "cell_type": "code",
   "execution_count": 4,
   "metadata": {},
   "outputs": [],
   "source": [
    "def update_func(state, t, system):\n",
    "    \n",
    "    unpack(system)\n",
    "    \n",
    "    \"\"\"\n",
    "    Update the SIR model.\n",
    "    \n",
    "    state: State (R, L, E, V)\n",
    "    t: time\n",
    "    system: System object\n",
    "    \n",
    "    returns: State\n",
    "    \"\"\"\n",
    "    r, l, e, v = state\n",
    "    \n",
    "    # flows:\n",
    "    sink_to_r =   Γ * τ \n",
    "    r_to_sink =   μ * r\n",
    "    r_to_l =      β * ρ * r * v\n",
    "    r_to_e =      (1 - ρ) * β * r * v\n",
    "    l_to_sink =   μ * l\n",
    "    l_to_e =      α * l\n",
    "    e_to_sink =   δ * e\n",
    "    sink_to_v =   π * e\n",
    "    v_to_sink =   σ * v\n",
    "    \n",
    "    drdt = sink_to_r - r_to_sink - r_to_l - r_to_e\n",
    "    dldt = r_to_l - l_to_sink - l_to_e\n",
    "    dedt = l_to_e + r_to_e - e_to_sink\n",
    "    dvdt = sink_to_v - v_to_sink\n",
    "    \n",
    "    # dt is the time step - it is defined in system; stocks:\n",
    "    r += drdt * dt \n",
    "    l += dldt * dt\n",
    "    e += dedt * dt\n",
    "    v += dvdt * dt\n",
    "    \n",
    "    return State(R=r, L=l, E=e, V=v)"
   ]
  },
  {
   "cell_type": "code",
   "execution_count": 5,
   "metadata": {},
   "outputs": [
    {
     "ename": "NameError",
     "evalue": "name 'init' is not defined",
     "output_type": "error",
     "traceback": [
      "\u001b[1;31m---------------------------------------------------------------------------\u001b[0m",
      "\u001b[1;31mNameError\u001b[0m                                 Traceback (most recent call last)",
      "\u001b[1;32m<ipython-input-5-8e1f096ee8db>\u001b[0m in \u001b[0;36m<module>\u001b[1;34m()\u001b[0m\n\u001b[1;32m----> 1\u001b[1;33m \u001b[0mupdate\u001b[0m \u001b[1;33m=\u001b[0m \u001b[0mupdate_func\u001b[0m\u001b[1;33m(\u001b[0m\u001b[0minit\u001b[0m\u001b[1;33m,\u001b[0m \u001b[1;36m1\u001b[0m\u001b[1;33m,\u001b[0m \u001b[0msystem\u001b[0m\u001b[1;33m)\u001b[0m\u001b[1;33m\u001b[0m\u001b[0m\n\u001b[0m\u001b[0;32m      2\u001b[0m \u001b[0mupdate2\u001b[0m \u001b[1;33m=\u001b[0m \u001b[0mupdate_func\u001b[0m\u001b[1;33m(\u001b[0m\u001b[0mupdate\u001b[0m\u001b[1;33m,\u001b[0m \u001b[1;36m1\u001b[0m\u001b[1;33m,\u001b[0m \u001b[0msystem\u001b[0m\u001b[1;33m)\u001b[0m\u001b[1;33m\u001b[0m\u001b[0m\n",
      "\u001b[1;31mNameError\u001b[0m: name 'init' is not defined"
     ]
    }
   ],
   "source": [
    "update = update_func(init, 1, system)\n",
    "update2 = update_func(update, 1, system)"
   ]
  },
  {
   "cell_type": "code",
   "execution_count": null,
   "metadata": {},
   "outputs": [],
   "source": [
    "t0 = 0\n",
    "system.t_end = 12000\n",
    "\n",
    "def run_simulation(system, update_func):\n",
    "    \"\"\"Runs a simulation of the system.\n",
    "        \n",
    "    system: System object\n",
    "    update_func: function that updates state\n",
    "    \n",
    "    returns: TimeFrame\n",
    "    \"\"\"\n",
    "    unpack(system)\n",
    "    \n",
    "    frame = TimeFrame(columns=init.index)\n",
    "    frame.row[t0] = init\n",
    "    \n",
    "    for t in linrange(t0, t_end):\n",
    "        frame.row[t+1] = update_func(frame.row[t], t, system)\n",
    "    \n",
    "    return frame"
   ]
  },
  {
   "cell_type": "code",
   "execution_count": null,
   "metadata": {},
   "outputs": [],
   "source": [
    "def plot_results(R, L, E, V):\n",
    "    \n",
    "    plot(R, '--', label='R (Uninfected CD4 Lymphocytes)')\n",
    "    plot(L, '-', label='L (Latently Infected Cells)')\n",
    "    plot(E, ':', label='E (Actively Infected Cells)')\n",
    "    #plot(V, '*', label='V')\n"
   ]
  },
  {
   "cell_type": "code",
   "execution_count": null,
   "metadata": {},
   "outputs": [],
   "source": [
    "# defining global variables\n",
    "\n",
    "\n",
    "# making the system\n",
    "# system = make_system(Γ, τ, μ, β, ρ, α, π, σ, δ)\n",
    "\n",
    "\n",
    "\n",
    "output = run_simulation(system, update_func)\n",
    "\n",
    "#plot(output['L'])\n",
    "#plot(output['R'])\n",
    "#plot(output['V'])\n",
    "#plot(output['E'])\n",
    "#decorate(legend = True)\n",
    "\n",
    "plot_results(output.R, output.L, output.E, output.V)\n",
    "decorate(legend = True)"
   ]
  },
  {
   "cell_type": "code",
   "execution_count": null,
   "metadata": {},
   "outputs": [],
   "source": [
    "#although this doesn't look quite like the graphs in the paper, it is because different scales are used to represent what is effectively the same data."
   ]
  },
  {
   "cell_type": "code",
   "execution_count": 3,
   "metadata": {},
   "outputs": [],
   "source": [
    "%psource linrange"
   ]
  },
  {
   "cell_type": "code",
   "execution_count": null,
   "metadata": {},
   "outputs": [],
   "source": []
  }
 ],
 "metadata": {
  "kernelspec": {
   "display_name": "Python 3",
   "language": "python",
   "name": "python3"
  },
  "language_info": {
   "codemirror_mode": {
    "name": "ipython",
    "version": 3
   },
   "file_extension": ".py",
   "mimetype": "text/x-python",
   "name": "python",
   "nbconvert_exporter": "python",
   "pygments_lexer": "ipython3",
   "version": "3.6.6"
  }
 },
 "nbformat": 4,
 "nbformat_minor": 2
}
