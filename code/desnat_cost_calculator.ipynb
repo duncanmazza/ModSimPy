{
 "cells": [
  {
   "cell_type": "code",
   "execution_count": 3,
   "metadata": {},
   "outputs": [],
   "source": [
    "# Configure Jupyter so figures appear in the notebook\n",
    "%matplotlib inline\n",
    "\n",
    "# Configure Jupyter to display the assigned value after an assignment\n",
    "%config InteractiveShell.ast_node_interactivity='last_expr_or_assign'\n",
    "\n",
    "# import functions from the modsim.py module\n",
    "from modsim import *\n",
    "import pandas as pd\n",
    "from scipy import stats\n",
    "import numpy as np"
   ]
  },
  {
   "cell_type": "code",
   "execution_count": 36,
   "metadata": {},
   "outputs": [],
   "source": [
    "def create_system():\n",
    "    # units in feet\n",
    "    height_of_structure = 7\n",
    "    width_of_structure = 9\n",
    "    length_of_structure = 7\n",
    "    number_of_crossbeams = 6\n",
    "    number_t_joints = number_of_crossbeams * 2\n",
    "    number_3_way_elbows = 4\n",
    "    \n",
    "    # https://www.homedepot.com/p/Genova-Products-PVC-Schedule-40-Pressure-Pipe-1-1-2-in-x-10-ft-Plain-End-70011N/300282341\n",
    "    #one_half_diameter_cpf = 0.513\n",
    "    #feet_increment_buying = 10\n",
    "    one_half_diameter_cpf = 0.3225\n",
    "    feet_increment_buying = 8\n",
    "    \n",
    "    \n",
    "    # https://www.homedepot.com/p/Formufit-1-2-in-Furniture-Grade-PVC-3-Way-Elbow-in-White-10-Pack-F0123WE-WH-10/205749372\n",
    "    cost_per_3_way_elbow = 17.69\n",
    "    number_increment_buying = 10\n",
    "    \n",
    "    #  https://www.homedepot.com/p/Charlotte-Pipe-1-1-2-in-PVC-Sch-40-S-x-S-x-S-Tee-PVC024001400HD/203812203\n",
    "    cost_per_t_joint = 2.40\n",
    "\n",
    "    return System(locals())\n",
    "    "
   ]
  },
  {
   "cell_type": "code",
   "execution_count": 41,
   "metadata": {},
   "outputs": [
    {
     "name": "stdout",
     "output_type": "stream",
     "text": [
      "64.0\n"
     ]
    },
    {
     "data": {
      "text/plain": [
       "20.64"
      ]
     },
     "execution_count": 41,
     "metadata": {},
     "output_type": "execute_result"
    }
   ],
   "source": [
    "system = create_system()\n",
    "def calculate_cost(system):\n",
    "    total_length_tubing = (system.height_of_structure * 4) + (system.width_of_structure * 2) + (system.length_of_structure * 2)\n",
    "\n",
    "    \n",
    "    if total_length_tubing % system.feet_increment_buying == 0:\n",
    "        length_tubing_required = total_length_tubing\n",
    "\n",
    "    else:\n",
    "        remainder = total_length_tubing % system.feet_increment_buying\n",
    "        diff = system.feet_increment_buying - remainder\n",
    "        length_tubing_required = total_length_tubing + diff\n",
    "\n",
    "    cost_of_tubing = length_tubing_required * system.one_half_diameter_cpf\n",
    "\n",
    "    return cost_of_tubing\n",
    "\n",
    "cost = calculate_cost(system)\n",
    "cost"
   ]
  },
  {
   "cell_type": "code",
   "execution_count": 27,
   "metadata": {},
   "outputs": [
    {
     "data": {
      "text/plain": [
       "7.0"
      ]
     },
     "execution_count": 27,
     "metadata": {},
     "output_type": "execute_result"
    }
   ],
   "source": []
  },
  {
   "cell_type": "code",
   "execution_count": null,
   "metadata": {},
   "outputs": [],
   "source": []
  }
 ],
 "metadata": {
  "kernelspec": {
   "display_name": "Python 3",
   "language": "python",
   "name": "python3"
  },
  "language_info": {
   "codemirror_mode": {
    "name": "ipython",
    "version": 3
   },
   "file_extension": ".py",
   "mimetype": "text/x-python",
   "name": "python",
   "nbconvert_exporter": "python",
   "pygments_lexer": "ipython3",
   "version": "3.6.6"
  }
 },
 "nbformat": 4,
 "nbformat_minor": 2
}
